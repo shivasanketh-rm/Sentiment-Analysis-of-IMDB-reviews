{
  "nbformat": 4,
  "nbformat_minor": 0,
  "metadata": {
    "anaconda-cloud": {},
    "kernelspec": {
      "name": "python3",
      "display_name": "Python 3"
    },
    "colab": {
      "name": "imdb_sentiment.ipynb",
      "provenance": [],
      "collapsed_sections": [],
      "toc_visible": true
    },
    "accelerator": "GPU"
  },
  "cells": [
    {
      "cell_type": "markdown",
      "metadata": {
        "id": "qVtbImlFwJh5",
        "colab_type": "text"
      },
      "source": [
        "# Sentiment analysis on IMDB review data"
      ]
    },
    {
      "cell_type": "code",
      "metadata": {
        "id": "FWI29L6JtUMl",
        "colab_type": "code",
        "colab": {}
      },
      "source": [
        "import pandas as pd\n",
        "from sklearn.feature_extraction.text import CountVectorizer\n",
        "from sklearn.feature_extraction.text import TfidfVectorizer\n",
        "\n",
        "import matplotlib.pyplot as plt\n",
        "%matplotlib inline\n",
        "plt.rcParams['figure.figsize'] = 12, 12\n",
        "\n",
        "from sklearn.linear_model import LogisticRegression\n",
        "from sklearn.naive_bayes import BernoulliNB\n",
        "from sklearn import metrics"
      ],
      "execution_count": 0,
      "outputs": []
    },
    {
      "cell_type": "code",
      "metadata": {
        "id": "WRL8BfjSwJiE",
        "colab_type": "code",
        "outputId": "1f4e918a-8e13-43b1-9be0-870808a39ae4",
        "colab": {
          "base_uri": "https://localhost:8080/",
          "height": 195
        }
      },
      "source": [
        "df_imbd = pd.read_csv(\"imdb.csv\")\n",
        "df_imbd.head()"
      ],
      "execution_count": 0,
      "outputs": [
        {
          "output_type": "execute_result",
          "data": {
            "text/html": [
              "<div>\n",
              "<style scoped>\n",
              "    .dataframe tbody tr th:only-of-type {\n",
              "        vertical-align: middle;\n",
              "    }\n",
              "\n",
              "    .dataframe tbody tr th {\n",
              "        vertical-align: top;\n",
              "    }\n",
              "\n",
              "    .dataframe thead th {\n",
              "        text-align: right;\n",
              "    }\n",
              "</style>\n",
              "<table border=\"1\" class=\"dataframe\">\n",
              "  <thead>\n",
              "    <tr style=\"text-align: right;\">\n",
              "      <th></th>\n",
              "      <th>Text</th>\n",
              "      <th>Class</th>\n",
              "    </tr>\n",
              "  </thead>\n",
              "  <tbody>\n",
              "    <tr>\n",
              "      <th>0</th>\n",
              "      <td>'One of the first of the best musicals Anchors...</td>\n",
              "      <td>P</td>\n",
              "    </tr>\n",
              "    <tr>\n",
              "      <th>1</th>\n",
              "      <td>'Visually disjointed and full of itself the di...</td>\n",
              "      <td>N</td>\n",
              "    </tr>\n",
              "    <tr>\n",
              "      <th>2</th>\n",
              "      <td>'These type of movies about young teenagers st...</td>\n",
              "      <td>P</td>\n",
              "    </tr>\n",
              "    <tr>\n",
              "      <th>3</th>\n",
              "      <td>'I would rather of had my eyes gouged out with...</td>\n",
              "      <td>N</td>\n",
              "    </tr>\n",
              "    <tr>\n",
              "      <th>4</th>\n",
              "      <td>'The title says it all. Tail Gunner Joe was a ...</td>\n",
              "      <td>N</td>\n",
              "    </tr>\n",
              "  </tbody>\n",
              "</table>\n",
              "</div>"
            ],
            "text/plain": [
              "                                                Text Class\n",
              "0  'One of the first of the best musicals Anchors...     P\n",
              "1  'Visually disjointed and full of itself the di...     N\n",
              "2  'These type of movies about young teenagers st...     P\n",
              "3  'I would rather of had my eyes gouged out with...     N\n",
              "4  'The title says it all. Tail Gunner Joe was a ...     N"
            ]
          },
          "metadata": {
            "tags": []
          },
          "execution_count": 5
        }
      ]
    },
    {
      "cell_type": "markdown",
      "metadata": {
        "id": "RXWqonpLz_fS",
        "colab_type": "text"
      },
      "source": [
        "## Supervised learning using Count Vectorizer and TF-IDF with Logistic Regression and Bernoulli Naive Bayes method"
      ]
    },
    {
      "cell_type": "markdown",
      "metadata": {
        "id": "Yfe2416MwJiK",
        "colab_type": "text"
      },
      "source": [
        "Convert Dependent variable into numeric value"
      ]
    },
    {
      "cell_type": "code",
      "metadata": {
        "id": "rSsTjzWhwJiM",
        "colab_type": "code",
        "outputId": "30249c46-2777-4cce-ef69-5629eb0e6381",
        "colab": {
          "base_uri": "https://localhost:8080/",
          "height": 195
        }
      },
      "source": [
        "df_imbd.Class[df_imbd.Class == 'P'] = 1\n",
        "df_imbd.Class[df_imbd.Class == 'N'] = 0\n",
        "df_imbd = df_imbd.dropna(how = 'any')\n",
        "df_imbd.head()"
      ],
      "execution_count": 0,
      "outputs": [
        {
          "output_type": "execute_result",
          "data": {
            "text/html": [
              "<div>\n",
              "<style scoped>\n",
              "    .dataframe tbody tr th:only-of-type {\n",
              "        vertical-align: middle;\n",
              "    }\n",
              "\n",
              "    .dataframe tbody tr th {\n",
              "        vertical-align: top;\n",
              "    }\n",
              "\n",
              "    .dataframe thead th {\n",
              "        text-align: right;\n",
              "    }\n",
              "</style>\n",
              "<table border=\"1\" class=\"dataframe\">\n",
              "  <thead>\n",
              "    <tr style=\"text-align: right;\">\n",
              "      <th></th>\n",
              "      <th>Text</th>\n",
              "      <th>Class</th>\n",
              "    </tr>\n",
              "  </thead>\n",
              "  <tbody>\n",
              "    <tr>\n",
              "      <th>0</th>\n",
              "      <td>'One of the first of the best musicals Anchors...</td>\n",
              "      <td>1</td>\n",
              "    </tr>\n",
              "    <tr>\n",
              "      <th>1</th>\n",
              "      <td>'Visually disjointed and full of itself the di...</td>\n",
              "      <td>0</td>\n",
              "    </tr>\n",
              "    <tr>\n",
              "      <th>2</th>\n",
              "      <td>'These type of movies about young teenagers st...</td>\n",
              "      <td>1</td>\n",
              "    </tr>\n",
              "    <tr>\n",
              "      <th>3</th>\n",
              "      <td>'I would rather of had my eyes gouged out with...</td>\n",
              "      <td>0</td>\n",
              "    </tr>\n",
              "    <tr>\n",
              "      <th>4</th>\n",
              "      <td>'The title says it all. Tail Gunner Joe was a ...</td>\n",
              "      <td>0</td>\n",
              "    </tr>\n",
              "  </tbody>\n",
              "</table>\n",
              "</div>"
            ],
            "text/plain": [
              "                                                Text Class\n",
              "0  'One of the first of the best musicals Anchors...     1\n",
              "1  'Visually disjointed and full of itself the di...     0\n",
              "2  'These type of movies about young teenagers st...     1\n",
              "3  'I would rather of had my eyes gouged out with...     0\n",
              "4  'The title says it all. Tail Gunner Joe was a ...     0"
            ]
          },
          "metadata": {
            "tags": []
          },
          "execution_count": 6
        }
      ]
    },
    {
      "cell_type": "markdown",
      "metadata": {
        "id": "q88rGVvQwJiQ",
        "colab_type": "text"
      },
      "source": [
        "Train Test data split using SKlearn library"
      ]
    },
    {
      "cell_type": "code",
      "metadata": {
        "id": "ckENuGynwJiS",
        "colab_type": "code",
        "outputId": "52a3c901-b421-4f74-9b0a-5ef1f87e2fa0",
        "colab": {
          "base_uri": "https://localhost:8080/",
          "height": 34
        }
      },
      "source": [
        "from sklearn.model_selection import train_test_split\n",
        "X = df_imbd.Text\n",
        "Y = df_imbd.Class\n",
        "Corpus_train, Corpus_test, Y_train, Y_test = train_test_split(X, Y, test_size=0.25)\n",
        "print(Corpus_train.shape,Corpus_test.shape,Y_train.shape,Y_test.shape)\n"
      ],
      "execution_count": 0,
      "outputs": [
        {
          "output_type": "stream",
          "text": [
            "(6374,) (2125,) (6374,) (2125,)\n"
          ],
          "name": "stdout"
        }
      ]
    },
    {
      "cell_type": "markdown",
      "metadata": {
        "id": "QhFI3F6DwJiW",
        "colab_type": "text"
      },
      "source": [
        "Using binary `CountVectorizer()` and a binary `TfidfVectorizer()`"
      ]
    },
    {
      "cell_type": "code",
      "metadata": {
        "id": "IYIue6e1wJiY",
        "colab_type": "code",
        "outputId": "585fedc5-7676-42e3-bc91-bd4ec840143f",
        "colab": {
          "base_uri": "https://localhost:8080/",
          "height": 151
        }
      },
      "source": [
        "#CountVectorizer with English stopwords and N-gram: 1-2\n",
        "vectorizer = CountVectorizer(stop_words=\"english\", ngram_range=(1,2), binary = True)\n",
        "X_train_CV = vectorizer.fit(Corpus_train).transform(Corpus_train)\n",
        "X_test_CV = vectorizer.transform(Corpus_test)\n",
        "\n",
        "print(\"Vocabulary size: {}\".format(len(vectorizer.vocabulary_)))\n",
        "print(\"X_train:\\n{}\".format(repr(X_train_CV)))\n",
        "print(\"X_test: \\n{}\".format(repr(X_test_CV)))\n",
        "\n",
        "feature_names = vectorizer.get_feature_names()\n",
        "print(\"Number of features: {}\".format(len(feature_names)))"
      ],
      "execution_count": 0,
      "outputs": [
        {
          "output_type": "stream",
          "text": [
            "Vocabulary size: 568253\n",
            "X_train:\n",
            "<6374x568253 sparse matrix of type '<class 'numpy.int64'>'\n",
            "\twith 1252518 stored elements in Compressed Sparse Row format>\n",
            "X_test: \n",
            "<2125x568253 sparse matrix of type '<class 'numpy.int64'>'\n",
            "\twith 255557 stored elements in Compressed Sparse Row format>\n",
            "Number of features: 568253\n"
          ],
          "name": "stdout"
        }
      ]
    },
    {
      "cell_type": "code",
      "metadata": {
        "id": "k_rkvX5f-XT3",
        "colab_type": "code",
        "outputId": "9c2701b2-5172-4931-8ba2-bc0eb5fd58de",
        "colab": {
          "base_uri": "https://localhost:8080/",
          "height": 151
        }
      },
      "source": [
        "#TfidfVectorizer with English stopwords and N-gram: 1-2\n",
        "vectorizer_TF = TfidfVectorizer(stop_words=\"english\", ngram_range=(1,2), binary = True)\n",
        "\n",
        "X_train_TF = vectorizer_TF.fit(Corpus_train).transform(Corpus_train)\n",
        "X_test_TF = vectorizer_TF.transform(Corpus_test)\n",
        "\n",
        "print(\"Vocabulary size: {}\".format(len(vectorizer_TF.vocabulary_)))\n",
        "print(\"X_train:\\n{}\".format(repr(X_train_TF)))\n",
        "print(\"X_test: \\n{}\".format(repr(X_test_TF)))\n",
        "\n",
        "feature_names = vectorizer_TF.get_feature_names()\n",
        "print(\"Number of features: {}\".format(len(feature_names)))"
      ],
      "execution_count": 0,
      "outputs": [
        {
          "output_type": "stream",
          "text": [
            "Vocabulary size: 568253\n",
            "X_train:\n",
            "<6374x568253 sparse matrix of type '<class 'numpy.float64'>'\n",
            "\twith 1252518 stored elements in Compressed Sparse Row format>\n",
            "X_test: \n",
            "<2125x568253 sparse matrix of type '<class 'numpy.float64'>'\n",
            "\twith 255557 stored elements in Compressed Sparse Row format>\n",
            "Number of features: 568253\n"
          ],
          "name": "stdout"
        }
      ]
    },
    {
      "cell_type": "markdown",
      "metadata": {
        "id": "C39d80r3wJid",
        "colab_type": "text"
      },
      "source": [
        "Using `LogisticRegression()` and `BernoulliNB()` models for Supervised classification of Count Vectorizer as well TF-IDF models"
      ]
    },
    {
      "cell_type": "code",
      "metadata": {
        "id": "bhf8XByLwJim",
        "colab_type": "code",
        "outputId": "757b7e4f-7896-44f9-a0e8-bef24e96d43a",
        "colab": {
          "base_uri": "https://localhost:8080/",
          "height": 87
        }
      },
      "source": [
        "Y_train=Y_train.astype('int')\n",
        "\n",
        "# Logistic Regression \n",
        "model_LR_CV = LogisticRegression()\n",
        "model_LR_CV.fit(X_train_CV, Y_train)\n",
        "model_LR_TF = LogisticRegression()\n",
        "model_LR_TF.fit(X_train_TF, Y_train)\n",
        "\n",
        "\n",
        "# Bernoulli Naive Bayes\n",
        "model_BNB_CV = BernoulliNB()\n",
        "model_BNB_CV.fit(X_train_CV, Y_train)\n",
        "model_BNB_TF = BernoulliNB()\n",
        "model_BNB_TF.fit(X_train_TF, Y_train)"
      ],
      "execution_count": 0,
      "outputs": [
        {
          "output_type": "stream",
          "text": [
            "/usr/local/lib/python3.6/dist-packages/sklearn/linear_model/logistic.py:432: FutureWarning: Default solver will be changed to 'lbfgs' in 0.22. Specify a solver to silence this warning.\n",
            "  FutureWarning)\n"
          ],
          "name": "stderr"
        },
        {
          "output_type": "execute_result",
          "data": {
            "text/plain": [
              "BernoulliNB(alpha=1.0, binarize=0.0, class_prior=None, fit_prior=True)"
            ]
          },
          "metadata": {
            "tags": []
          },
          "execution_count": 25
        }
      ]
    },
    {
      "cell_type": "code",
      "metadata": {
        "id": "D9GkHMl7HIWo",
        "colab_type": "code",
        "outputId": "f175d402-f906-4e61-c61b-ce77208cdc69",
        "colab": {
          "base_uri": "https://localhost:8080/",
          "height": 101
        }
      },
      "source": [
        "LR_CV_pred = model_LR_CV.predict(X_test_CV)\n",
        "AUC_LR_CV = metrics.roc_auc_score(LR_CV_pred, Y_test)\n",
        "LR_CV_fpr, LR_CV_tpr, _ = metrics.roc_curve(LR_CV_pred, Y_test)\n",
        "\n",
        "LR_TF_pred = model_LR_TF.predict(X_test_TF)\n",
        "AU_LR_TF = metrics.roc_auc_score(LR_TF_pred, Y_test)\n",
        "LR_TF_fpr, LR_TF_tpr, _ = metrics.roc_curve(LR_TF_pred, Y_test)\n",
        "\n",
        "BNB_CV_pred = model_BNB_CV.predict(X_test_CV)\n",
        "AUC_BNB_CV = metrics.roc_auc_score(BNB_CV_pred, Y_test)\n",
        "BNB_CV_fpr, BNB_CV_tpr, _ = metrics.roc_curve(BNB_CV_pred, Y_test)\n",
        "\n",
        "BNB_TF_pred = model_BNB_TF.predict(X_test_TF)\n",
        "AUC_BNB_TF = metrics.roc_auc_score(BNB_TF_pred, Y_test)\n",
        "BNB_TF_fpr, BNB_TF_tpr, _ = metrics.roc_curve(BNB_TF_pred, Y_test)\n",
        "\n",
        "print(AUC_LR_CV ,AU_LR_TF ,AUC_BNB_CV ,AUC_BNB_TF)\n",
        "print(\"Logistic Regression with Count Vectorizer = \",AUC_LR_CV )\n",
        "print(\"Logistic Regression with TfidfVectorizer = \",AU_LR_TF )\n",
        "print(\"BernoulliNB with Count Vectorizer = \",AUC_BNB_CV)\n",
        "print(\"BernoulliNB with TfidfVectorizer = \",AUC_BNB_TF )"
      ],
      "execution_count": 0,
      "outputs": [
        {
          "output_type": "stream",
          "text": [
            "0.8693357601044505 0.8635189912887573 0.8405989167476088 0.8405989167476088\n",
            "Logistic Regression with Count Vectorizer =  0.8693357601044505\n",
            "Logistic Regression with TfidfVectorizer =  0.8635189912887573\n",
            "BernoulliNB with Count Vectorizer =  0.8405989167476088\n",
            "BernoulliNB with TfidfVectorizer =  0.8405989167476088\n"
          ],
          "name": "stdout"
        }
      ]
    },
    {
      "cell_type": "code",
      "metadata": {
        "id": "jtb-0SkpKxPF",
        "colab_type": "code",
        "outputId": "c761a6d2-be20-4599-ac97-76a56355ee3a",
        "colab": {
          "base_uri": "https://localhost:8080/",
          "height": 730
        }
      },
      "source": [
        "# plot the roc curve for the model\n",
        "plt.plot(LR_CV_fpr, LR_CV_tpr, linestyle='--', label='Logistic Regression with Count Vectorizer')\n",
        "plt.plot(LR_TF_fpr, LR_TF_tpr, linestyle=':', label='Logistic Regression with TfidfVectorizer')\n",
        "plt.plot(BNB_CV_fpr, BNB_CV_tpr, linestyle='-', label='BernoulliNB with Count Vectorizer')\n",
        "plt.plot(BNB_TF_fpr, BNB_TF_tpr, linestyle='-.', label='BernoulliNB with TfidfVectorizer')\n",
        "# axis labels\n",
        "plt.xlabel('False Positive Rate')\n",
        "plt.ylabel('True Positive Rate')\n",
        "# show the legend\n",
        "plt.legend()\n",
        "plt.title(\"AUC curve\")\n",
        "plt.show()"
      ],
      "execution_count": 0,
      "outputs": [
        {
          "output_type": "display_data",
          "data": {
            "image/png": "[encoded data removed]",
            "text/plain": [
              "<Figure size 864x864 with 1 Axes>"
            ]
          },
          "metadata": {
            "tags": []
          }
        }
      ]
    },
    {
      "cell_type": "markdown",
      "metadata": {
        "id": "ZeieJaC2VTnX",
        "colab_type": "text"
      },
      "source": [
        "Logistic Regression with Count Vectorizer performs better Sentiment analysis than other models with AUC of 0.8693"
      ]
    },
    {
      "cell_type": "markdown",
      "metadata": {
        "id": "hsiifMQK0T26",
        "colab_type": "text"
      },
      "source": [
        "## Unsupervised learning"
      ]
    },
    {
      "cell_type": "code",
      "metadata": {
        "id": "lDFMhbMrfY4W",
        "colab_type": "code",
        "outputId": "8f9a250f-7794-42cb-8567-950aad7b7b18",
        "colab": {
          "base_uri": "https://localhost:8080/",
          "height": 238
        }
      },
      "source": [
        "from textblob import TextBlob\n",
        "from nltk.corpus import stopwords\n",
        "import string\n",
        "import numpy as np\n",
        "from nltk.sentiment.vader import SentimentIntensityAnalyzer\n",
        "import nltk\n",
        "from sklearn import cluster\n",
        "\n",
        "nltk.download('stopwords')\n",
        "nltk.download('punkt')\n",
        "nltk.download('averaged_perceptron_tagger')\n",
        "nltk.download('vader_lexicon')\n",
        "\n",
        "# Let's create our feature vector as Kmeans works with numerical values only\n",
        "# thus we need to convert our text data into numeric features in some way which should \n",
        "# prove usful to our learning algorithm and it can easily find pattern in it.\n",
        "# So, i will be using polarity score of the extracted adjectives as our feature\n",
        "\n",
        "def create_polarity_vector(all_adjectives):\n",
        "    # NLTK Vader sentiment analyzer\n",
        "    sid = SentimentIntensityAnalyzer()\n",
        "\n",
        "    #Taking compound score as one feature, (compund score = -ve indicates negative sentiments)\n",
        "    #(compund score = +ve indicates positive sentiments, ie compound value is normalization b/w +ve and -ve)\n",
        "    feature_vector=[1 if sid.polarity_scores(i)['compound']>=0 else -1 for i in all_adjectives]\n",
        "    \n",
        "    return feature_vector\n",
        "\n",
        "\n",
        "# utility function to read text file\n",
        "def polarity_sets_file(input_file):\n",
        "    with open(input_file, 'r') as f:\n",
        "        input_text = f.read()\n",
        "        return input_text\n",
        "\n",
        "# utility function to extract all adjectives from text document\n",
        "def extract_adjectives(text):\n",
        "    tokenized_text= nltk.word_tokenize(text)\n",
        "    tagged_text = nltk.pos_tag(tokenized_text)\n",
        "    all_adjectives = list({i[0] for i in tagged_text if i[1] == 'JJ'})\n",
        "    return all_adjectives\n",
        "\n",
        "# Cleaning up text \n",
        "def clean_text(text):    \n",
        "    \n",
        "    #stopword removal\n",
        "    stop_word=list(stopwords.words('english'))\n",
        "    toke=list(text.split(' '))\n",
        "    text = ' '.join([i for i in toke if i not in stop_word])\n",
        "    \n",
        "    #punctutaion removal\n",
        "    t_lator=str.maketrans('','',string.punctuation)\n",
        "    text=text.translate(t_lator)\n",
        "    remove_digits = str.maketrans('', '', string.digits)\n",
        "    text = text.translate(remove_digits)    \n",
        "    \n",
        "    #removing special symbol\n",
        "    for i in '“”—':\n",
        "        text = text.replace(i, ' ')\n",
        "        \n",
        "    return text\n",
        "\n",
        "\n",
        "text = df_imbd['Text'].to_string(index=False)\n",
        "\n",
        "# Reading our file\n",
        "#text = polarity_sets_file('test.txt')\n",
        "#print(\"text = \", (text))\n",
        "# cleaning our text data\n",
        "text = clean_text(text)\n",
        "\n",
        "# Getting adjectieves from our document\n",
        "adjectives = extract_adjectives(text)\n",
        "\n",
        "# Preparing our feature vector\n",
        "features = create_polarity_vector(adjectives)\n",
        "\n",
        "# Making clusters using KMeans\n",
        "feature_ = np.array(features).reshape(-1,1)\n",
        "kmeans = cluster.KMeans(n_clusters=2, n_init=200)\n",
        "kmeans.fit(feature_)\n",
        "labels = kmeans.predict(feature_)\n",
        "\n",
        "# Identifying positive and negative terms\n",
        "\n",
        "type1_terms,type2_terms = [], []\n",
        "\n",
        "for i,j in zip(adjectives,labels):\n",
        "    if j == 0 :\n",
        "        type1_terms.append(i)\n",
        "    else:\n",
        "        type2_terms.append(i)\n",
        "        \n",
        "print(type1_terms)\n",
        "\n",
        "print(type2_terms)"
      ],
      "execution_count": 0,
      "outputs": [
        {
          "output_type": "stream",
          "text": [
            "[nltk_data] Downloading package stopwords to /root/nltk_data...\n",
            "[nltk_data]   Package stopwords is already up-to-date!\n",
            "[nltk_data] Downloading package punkt to /root/nltk_data...\n",
            "[nltk_data]   Package punkt is already up-to-date!\n",
            "[nltk_data] Downloading package averaged_perceptron_tagger to\n",
            "[nltk_data]     /root/nltk_data...\n",
            "[nltk_data]   Package averaged_perceptron_tagger is already up-to-\n",
            "[nltk_data]       date!\n",
            "[nltk_data] Downloading package vader_lexicon to /root/nltk_data...\n",
            "[nltk_data]   Package vader_lexicon is already up-to-date!\n",
            "['Milanese', 'democratic', 'standup', 'red', 'nose', 'human', 'amateur', 'eligible', 'waist', 'gritty', 'itfor', 'Zodiac', 'technical', 'call', 'meticulous', 'inhabit', 'fro', 'Cary', 'sublime', 'former', 'theatre', 'endofdays', 'middle', 'downtown', 'free', 'twen', 'universal', 'dis', 'Good', 'bold', 'elaborate', 'unenv', 'Sean', 'vein', 'bottom', 'secret', 'spoiler', 'shoc', 'overwhelming', 'different', 'maj', 'perfect', 'unforgettable', 'Possible', 'relax', 'handsome', 're', 'Based', 'meI', 'Lucian', 'ac', 'agnostic', 'puzzle', 'grown', 'inept', 'orginal', 'Hollow', 'gold', 'excellent', 'martial', 'Freudian', 'hopele', 'unmemorable', 'Usual', 'mere', 'make', 'Preposterous', 'rich', 'suspe', 'many', 'standout', 'Sure', 'accurate', 'kin', 'saturday', 'na', 'intere', 'fairy', 'ski', 'obvious', 'title', 'equal', 'glamorous', 'shoots', 'hoodlum', 'initial', 'eddie', 'dry', 'believe', 'spectacular', 'thedishonor', 'afraid', 'raid', 'gentle', 'sat', 'recent', 'Special', 'couch', 'logical', 'GOOD', 'f', 'ups', 'u', 'hav', 'documentary', 'teacher', 'want', 'Damian', 'comedymusic', 'lucky', 'Purgatory', 'tal', 'Big', 'update', 'Minor', 'redeeming', 'nos', 'fantasy', 'onomatopoeic', 'filmI', 'entert', 'Sensuous', 'Chinese', '\\x08\\x08\\x08\\x08A', 'procedural', 'successful', 'pm', 'didnt', 'piece', 'c', 'glowi', 'wacky', 'character', 'unexpected', 'find', 'origina', 'previous', 'worth', 'grateful', 'BritishSpanish', 'swedish', 'big', 'abo', 'Sergeant', 'clas', 'Last', 'incoherent', 'saw', 'little', 'tha', 'actionless', 'porn', 'scariest', 'learn', 'countless', 'cast', 'beautiful', 'upon', 'parochial', 'serial', 'witho', 'enjoy', 'solid', 'psychologic', 'wannabe', 'stiff', 'utterly', 'grandiose', 'infamous', 'fabric', 'collective', 'everyday', 'objective', 'respect', 'Anyone', 'likable', 'remade', 'genuine', 'wait', 'spare', 'extreme', 'whimsical', 'praiseworthy', 'formulaic', 'come', 'total', 'enjo', 'wild', 'fil', 'shot', 'act', 'unfathomable', 'particular', 'overblown', 'western', 'feeling', 'nightmare', 'n', 'specialized', 'salacious', 'splendid', 'fir', 'figure', 'fetched', 'nig', 'sheep', 'derivative', 'homosexual', 'exceptional', 'perfectlyThis', 'mine', 'republic', 'redeem', 'latter', 'direct', 'noir', 'outlandish', 'freakin', 'thi', 'acclaimed', 'outright', 've', 'oh', 'vs', 'ube', 'e', 'thought', 'trashy', 'longdefunct', 'Few', 'seismic', 'defined', 'nature', 'French', 'programme', 'su', 'military', 'theater', 'vocabulary', 'Nightmare', 'unknown', 'cam', 'skinny', 'geneticall', 'ov', 'short', 'broad', 'masterpiece', 'soooo', 'impressive', 'talented', 'mumbojumbo', 'digital', 'silly', 'ItalianAmerican', 'acknowledged', 'intern', 'sure', 'qu', 'absurd', 'shopworn', 'Great', 'golden', 'multi', 'Mexican', 'involved', 'elementary', 'sometimesyou', 'psychological', 'prima', 'dusty', 'lovely', 'postapocalyptic', 'superior', 'vengeful', 'married', 'Jewish', 'resurrect', 'd', 'rev', 'awesome', 'pedigree', 'taiwanese', 'pr', 'tom', 'reminiscent', 'half', 'alive', 'sht', 'fine', 'flick', 'useful', 'finish', 'fellow', 'copy', 'innovative', 'protective', 'uncut', 'litt', 'ambitious', 'Famous', 'Give', 'creole', 'especiall', 'unnecessary', 'longtime', 'stumble', 'films', 'kneejerk', 'amaz', 'public', 'Diehl', 'unlikeable', 'unknowing', 'cinema', 'quick', 'hot', 'praised', 'First', 'screen', 'advent', 'blasphemous', 'sweet', 'independant', 'black', 'acronymic', 'spinal', 'app', 'fl', 'dad', 'frothy', 'antifootball', 'FOR', 'male', 'bonanza', 'introverted', 'extraordinary', 'tag', 'summary', 'European', 'great', 'versi', 'understand', 'soccer', 'overall', 'musical', 'unbelievable', 'added', 'forgettable', 'dear', 'scripted', 'Julian', 'comedy', 'melodramatic', 'especial', 'pedestrian', 'lap', 'amazed', 'sh', 'harry', 'forgott', 'cowrote', 'old', 'Curious', 'romantic', 'amateurish', 'squalor', 'special', 'ultra', 'Ok', 'reviewa', 'nocable', 'yo', 'Other', 'soli', 'y', 'hyperbole', 'upfro', 'footb', 'ten', 'girl', 'com', 'long', 'Spike', 'inherent', 'lengthy', 'brief', 'allow', 'villian', 'sloppy', 'lead', 'cinemas', 'saga', 'personal', 'recipe', 'inform', 'like', 'Previous', 'si', 'flak', 'seventh', 'agree', 'heroi', 'ardent', 'samesex', 'handful', 'thin', 'barn', 'straightfaced', 'much', 'Unremarkable', 'ent', 'Wow', 's', 'incredible', 'thisbut', 'monotonous', 'clumsy', 'uplifting', 'Much', 'sort', 'let', 'choppy', 'Asian', 'lov', 'nice', 'audio', 'conceive', 'cultural', 'main', 'comedic', 'ive', 'Lady', 'Cleese', 'wholesome', 'ok', 'glee', 'artsy', 'directorial', 'rathe', 'hig', 'timeless', 'opposite', 'forward', 'American', 'babe', 'lesson', 'twenty', 'mysterious', 'admire', 'recall', 'enthusiastic', 'commentsSEVEN', 'truly', 'nymphomaniac', 'irresistible', 'slap', 'promising', 'Oriental', 'favourite', 'knew', 'tacky', 'definitive', 'cordial', 'resurrected', 'noteworthy', 'entertainin', 'Leese', 'abject', 'bea', 'realise', 'youre', 'start', 'clear', 'mix', 'cheap', 'mixed', 'fascinating', 'conspi', 'fall', 'real', 'rapid', 'stunning', 'suitable', 'complex', 'wellacted', 'notoriety', 'hired', 'distill', 'omen', 'uneve', 'large', 'cyn', 'meteor', 'goofy', 'th', 'project', 'strug', 'awfull', 'Deadly', 'nam', 'scientific', 'disciple', 'lat', 'unoriginal', 'fifty', 'due', 'deceptive', 'type', 'late', 'bickering', 'liked', 'meaningful', 'suk', 'civil', 'drama', 'wellar', 'skilled', 'original', 'hidden', 'i', 'luscious', 'theatrical', 'incomprehensible', 'popular', 'english', 'youve', 'unironic', 'purpose', 'such', 'enormous', 'vocal', 'supernatural', 'active', 'inventive', 'flirting', 'badlyacted', 'powerful', 'comical', 'rent', 'Belgian', 'vast', 'educational', 'lik', 'understate', 'fest', 'satirical', 'secondary', 'fi', 'key', 'unrealistic', 'created', 'sneak', 'psychiatric', 'flagsh', 'british', 'couple', 'ha', 'tedious', 'close', 'triumph', 'whole', 'loved', 'baby', 'young', 'Nay', 'frozen', 'wellmade', 'generic', 'orchestra', 'back', 'photograph', 'cinematic', 'deep', 'biographical', 'overhyped', 'proper', 'nobudget', 'open', 'notable', 'havent', 'filmw', 'thatI', 'Invisible', 'Steven', 'excessive', 'visual', 'sexy', 'Brilliant', 'ideal', 'peaceful', 'alien', 'unfunny', 'sleep', 'unnerv', 'mantle', 'prestigious', 'bevy', 'SLIGHT', 'fictional', 'wonderfu', 'aware', 'decide', 'situational', 'implausible', 'trailer', 'Canadian', 'uninteresting', 'train', 'mind', 'classic', 'spoilerish', 'fabulous', 'terminal', 'lavish', 'switched', 'forgive', 'soap', 'entertaining', 'inside', 'im', 'unique', 'IsraeliPalestinian', 'un', 'modernday', 'm', 'thrilled', 'Adrian', 'Japanese', 'Irréversible', 'massive', 'fourteen', 'soft', 'scenery', 'specific', 'minuss', 'ti', 'Sound', 't', 'rap', 'mon', 'southern', 'epic', 'Screened', 'Military', 'gem', 'youthful', 'annive', 'episode', 'amazing', 'werent', 'Flat', 'whats', 'overactive', 'alot', 'ultramodern', 'Basic', 'Excellent', 'pretty', 'lot', 'unusual', 'archaeologist', 'become', 'wealthy', 'bitten', 'harmless', 'sponge', 'upper', 'funniest', 'memorable', 'fifth', 'surrealistic', 'interesting', 'fran', 'Im', 'auteur', 'slasher', 'dont', 'parlortoprison', 'Reese', 'reviews', 'peva', 'quite', 'clichés', 'fuel', 'comment', 'Contrary', 'common', 'journey', 'genre', 'nerve', 'storyline', 'w', 'disapp', 'top', 'meet', 'mo', 'pen', 'gr', 'prophetic', 'first', 'lif', 'relative', 'ancient', 'condensed', 'wa', 'detailed', 'friend', 'wonde', 'fantastic', 'generous', 'important', 'only', 'Little', 'dysfunctional', 'fat', 'feature', 'build', 'sympathetic', 'gripping', 'childhood', 'gray', 'Your', 'filmmak', 'nihilistic', 'washed', 'premise', 'know', 'Western', 'hoopla', 'em', 'animated', 'win', 'outdated', 'plenty', 'prescree', 'stylish', 'driven', 'preposterous', 'unrealized', 'tail', 'portrayal', 'hardwork', 'warm', 'female', 'Many', 'knowledgeable', 'deadl', 'supposed', 'realTV', 'crusty', 'simplistic', 'picky', 'mean', 'teen', 'wasnt', 'intend', 'hippie', 'Christian', 'noneanimated', 'wonderful', 'dive', 'stagnant', 'Youd', 'linear', 'speechless', 'isnt', 'smalltown', 'Weakstale', 'Incredible', 'psychiatrist', 'fan', 'slo', 'hitandmiss', 'virtual', 'Russian', 'throw', 'lean', 'atrocious', 'emotional', 'Clive', 'Brazilian', 'nuclear', 'happy', 'affluent', 'cavernous', 'edited', 'Italian', 'curious', 'underst', 'humorous', 'kickass', 'futuristic', 'fath', 'awesomeIt', 'minor', 'able', 'tonight', 'essay', 'unint', 'watched', 'few', 'wellworn', 'nostalgic', 'surprised', 'truth', 'unwatchable', 'laconic', 'compare', 'professional', 'le', 'future', 'Nicole', 'cheesy', 'stun', 'single', 'updated', 'par', 'spoof', 'televised', 'goo', 'magical', 'anonymous', 'typical', 'fami', 'bhai', 'Such', 'coed', 'private', 'category', 'understan', 'Swedish', 'alltime', 'gu', 'wasn', 'unlikable', 'illustrious', 'resemble', 'formidable', 'prolific', 'charme', 'flock', 'tra', 'posit', 'negligible', 'sterile', 'arent', 'moviesThis', 'intellectual', 'Mysterious', 'foremost', 'noddin', 'need', 'amaze', 'commit', 'actual', 'British', 'Youll', 'holiday', 'von', 'cute', 'tame', 'wifes', 'north', 'sexual', 'abysmal', 'suspenseful', 'habit', 'purple', 'Purple', 'chase', 'hi', 'unlikely', 'predictable', 'cattle', 'opening', 'last', 'insightful', 'name', 'fauxRussian', 'competent', 'directed', 'iconic', 'decent', 'logic', 'Early', 'police', 'wat', 'buoy', 'diffic', 'strong', 'high', 'usual', 'installment', 'entire', 'weekly', 'speak', 'Eric', 'intolerable', 'shak', 'mummy', 'critique', 'pretentious', 'huge', 'advertiseme', 'subtle', 'junior', 'domestic', 'movi', 'transsexual', 'pure', 'individual', 'detective', 'filmmaking', 'legendary', 'innocentish', 'sweetnatured', 'light', 'comedian', 'right', 'resear', 'hyped', 'cliched', 'slow', 'next', 'ch', 'Polynesian', 'insect', 'racial', 'complete', 'positive', 'possible', 'go', 'bi', 'tread', 'advert', 'political', 'Indian', 'janitor', 'grea', 'portra', 'kibbutz', 'novel', 'exp', 'dog', 'preteen', 'Slovenian', 'concerned', 'care', 'attractive', 'ordinary', 'fr', 'mov', 'qui', 'polish', 'indulge', 'true', 'brilliant', 'Riveting', 'mini', 'classical', 'video', 'theory', 'noted', 'several', 'longt', 'print', 'use', 'laugh', 'new', 'nd', 'Siberian', 'psychedelic', 'fair', 'similar', 'effective', 'woul', 'contra', 'understandable', 'st', 'grow', 'fli', 'atmospheric', 'Amateurish', 'str', 'foreign', 'Seventeen', 'busines', 'trustworthy', 'fresh', 'undistinguished', 'terrific', 'al', 'narrative', 'comic', 'charismatic', 'excess', 'mainstream', 'previews', 'moviet', 'recommend', 'smart', 'Danish', 'outstanding', 'origin', 'give', 'garishly', 'todays', 'literary', 'average', 'second', 'somewhat', 'economic', 'castle', 'everybody', 'exploitative', 'o', 'whic', 'subject', 'list', 'traditional', 'creature', 'rubbish', 'generational', 'expect', 'numerous', 'legend', 'abou', 'conservative', 'tw', 'se', 'stud', 'adorable', 'box', 'cold', 'hollywood', 'favorite', 'same', 'sci', 'daughter', 'campy', 'past', 'warmth', 'imagined', 'pleasant', 'fatale', 'animal', 'tight', 'prototype', 'disasterous', 'animat', 'Is', 'responsible', 'alcoholic', 'Today', 'wellknown', 'posh', 'load', 'file', 'preachy', 'plot', 'local', 'arrival', 'mu', 'Spanish', 'pointless', 'likely', 'pro', 'lighthearted', 'interested', 'sight', 'familiar', 'appropriate', 'misshapen', 'finale', 'dense', 'nonsensical', 'whe', 'safe', 'evocative', 'early', 'international', 'sour', 'novelistscreenwriter', 'hit', 'contemporary', 'watch', 'horde', 'emba', 'energetic', 'ultralow', 'urbane', 'unaired', 'format', 'Teen', 'remake', 'commercial', 'Real', 'lyrical', 'asleep', 'remarkable', 'prissy', 'prime', 'motive', 'scifi', 'social', 'exquisite', 'brush', 'found', 'l', 'mental', 'eff', 'idealized', 'beauti', 'speci', 'mil', 'endless', 'headline', 'famous', 'Fantastic', 'financial', 'nexttolast', 'colorful', 'show', 'sentimental', 'poeticbeautiful', 'US', 'classy', 'white', 'jus', 'halfportuguese', 'cant', 'nu', 'shallow', 'review', 'Marvelous', 'expensive', '«', 'ta', 'nominated', 'sophisticated', 'psychotic', 'prior', 'basic', 'commented', 'reme', 'Australian', 'inclined', 'obscure', 'exact', 'twentys', 'notice', 'sixth', 'general', 'bible', 'impulse', 'b', 'laughable', 'mention', 'pan', 'enjoyable', 'p', 'guy', 'lux', 'addictive', 'minute', 'wish', 'offset', 'laughed', 'ro', 'watchin', 'polite', 'proof', 'ensemble', 'outdoor', 'li', 'blew', 'hilarious', 'fanciful', 'newlywed', 'movieWas', 'todayheard', 'gauzy', 'phenomenal', 'uninspired', 'acting', 'poignant', 'describes', 'extended', 'turgid', 'intergenerational', 'child', 'wondrous', 'aut', 'bigtime', 'fit', 'think', 'empathic', 'gratuitous', 'amorous', 'current', 'sheeplike', 'annoyin', 'vote', 'magnificent', 'library', 'fond', 'potential', 'ready', 'modern', 'unemotional', 'littleseen', 'unpretentious', 'describe', 'speech', 'dese', 'nigh', 'spend', 'wreak', 'tribute', 'getgo', 'false', 'escap', 'simple', 'small', 'postDesperate', 'grand', 'antidrug', 'togetherI', 'actuall', 'Second', 'stylistic', 'weight', 'onedollar', 'g', 'frustra', 'putty', 'ridicul', 'independent', 'OK', 'garnered', 'fame', 'model', 'Puertorican', 'historian', 'loud', 'live', 'episodic', 'comfortable', 'bet', 'fondness', 'mormon', 'marvelous', 'Yellow', 'Korean', 'various', 'stone', 'esthetic', 'form', 'heard', 'incorrigible', 'pict', 'extra', 'dark', 'doesnt', 'enjoyed', 'final', 'nothin', 'related', 'rd', 'fun', 'erotic', 'third', 'genetic', 'attract', 'raw', 'expec', 'quali', 'plastic', 'content', 'gorgeous', 'scenic', 'undeniable', 'cheerful', 'cool', 'standard', 'predic', 'user', 'primitive', 'universe', 'silent', 'artistic', 'sensitive', 'overscripted', 'knowledge', 'flamenco', 'Overall', 'superb', 'fourth', 'German', 'du', 'grownup', 'ship', 'ranked', 'rental', 'ultimate', 'impress', 'rea', 'masterful', 'som', 'ask', 'nonaquatic', 'commentary', 'Lynchian', 'sequel', 'flat', 'intelligent', 'playful', 'quiet', 'GREAT', 'playin', 'ex', 'definite', 'enter', 'tale', 'drunken', 'outline', 'profound', 'inaccurate', 'poorly', 'god', 'devious', 'enough', 'frankly', 'lent', 'delightful', 'full', 'freekin', 'unimaginative', 'og', 'Classic', 'filma', 'femme', 'sto', 'anime', 'Austrian', 'intense', 'Sunshine', 'poetic', 'advice', 'shou', 'hotshot', 'prerelease', 'Iranian', 'major', 'moderate', 'favorable', 'pa', 'wi', 'historical', 'zombi', 'read', 'thee', 'least', 'lo', 'official', 'mystery', 'ideals', 'say', 'surreal', 'funny', 'see', 'delete', 'proud', 'costume', 'speculate', 'giant', 'splendidlydirected', 'inexplicable', 'humanity', 'rare', 'easy', 'sprawling', 'alternate', 'present', 'underrate', 'unsung', 'subgenre', 'good', 'yearold', 'bunch', 'impressed', 'freebird', 'clever', 'bit', 'Twist', 'char', 'liberal', 'inexorable', 'restored', 'witty', 'imaginative', 'punct', 'poorlymade', 'spoilersThe', 'tremendous', 'wide', 'natural', 'steady', 'unavailable', 'mortal', 'ou', 'halfway', 'super', 'sho', 'unde', 'realistic', 'wine', 'unsentimental', 'modesty', 'underrated', 'write', 'regular']\n",
            "['trite', 'grim', 'worse', 'trick', 'ominous', 'terrible', 'funeral', 'critical', 'unhappy', 'forced', 'critic', 'weak', 'shame', 'worst', 'unfortunate', 'guilty', 'Screwball', 'teased', 'painful', 'lose', 'suspect', 'negative', 'offensive', 'cry', 'unbiased', 'dire', 'Notorious', 'hard', 'crazy', 'frustrated', 'useless', 'sad', 'questionable', 'ridiculous', 'ruin', 'skeptical', 'mindless', 'crazed', 'unworthy', 'Worst', 'arrogant', 'poor', 'dreadful', 'tricky', 'obsessive', 'dubious', 'eerie', 'low', 'dumb', 'Repetitive', 'scary', 'Sadly', 'screwy', 'flop', 'hell', 'cruel', 'desperate', 'odd', 'illegal', 'evil', 'ludicrous', 'uptight', 'Painful', 'Horrendous', 'awful', 'steal', 'naive', 'accident', 'indifferent', 'alone', 'vile', 'suspicious', 'failed', 'stop', 'insipid', 'sappy', 'violated', 'stupid', 'disappointing', 'bloody', 'wrong', 'wasted', 'inadequate', 'erroneous', 'bitter', 'Stupid', 'hate', 'maniacal', 'harsh', 'distrust', 'sick', 'unimpressive', 'bizarre', 'idiotic', 'horrible', 'angry', 'horror', 'difficult', 'nonsense', 'horrendous', 'numbs', 'confused', 'obsess', 'crappy', 'swear', 'rant', 'appalling', 'apocalyptic', 'scared', 'unmatched', 'fight', 'forgotten', 'worn', 'repetitive', 'tough', 'bad', 'uninvolving', 'submissive', 'dumbest', 'mad', 'overlooked', 'brutal', 'neglect', 'risky', 'Panic', 'inferior', 'dead', 'notorious', 'Terrible', 'lousy', 'skeptic', 'lame', 'silliness', 'nasty', 'horrified', 'miss', 'pretend', 'depressing', 'serious', 'criticize', 'violent', 'tragic', 'dreary', 'offense', 'boring', 'unacceptable', 'horrific', 'controversial', 'bomb', 'sorry', 'disturbed', 'dull', 'Thief', 'Ridiculous', 'cut', 'Cruel', 'shoot', 'hysterical', 'curse', 'complain', 'weird', 'pathetic', 'misunderstood', 'vicious', 'miserable', 'awkward', 'disappointed', 'childish', 'tired', 'strange', 'doubt']\n"
          ],
          "name": "stdout"
        }
      ]
    },
    {
      "cell_type": "code",
      "metadata": {
        "id": "oF0EbSa22uA4",
        "colab_type": "code",
        "outputId": "e6910d5e-d37b-4160-df74-43c9825517aa",
        "colab": {
          "base_uri": "https://localhost:8080/",
          "height": 54
        }
      },
      "source": [
        "print(type1_terms)"
      ],
      "execution_count": 0,
      "outputs": [
        {
          "output_type": "stream",
          "text": [
            "['Milanese', 'democratic', 'standup', 'red', 'nose', 'human', 'amateur', 'eligible', 'waist', 'gritty', 'itfor', 'Zodiac', 'technical', 'call', 'meticulous', 'inhabit', 'fro', 'Cary', 'sublime', 'former', 'theatre', 'endofdays', 'middle', 'downtown', 'free', 'twen', 'universal', 'dis', 'Good', 'bold', 'elaborate', 'unenv', 'Sean', 'vein', 'bottom', 'secret', 'spoiler', 'shoc', 'overwhelming', 'different', 'maj', 'perfect', 'unforgettable', 'Possible', 'relax', 'handsome', 're', 'Based', 'meI', 'Lucian', 'ac', 'agnostic', 'puzzle', 'grown', 'inept', 'orginal', 'Hollow', 'gold', 'excellent', 'martial', 'Freudian', 'hopele', 'unmemorable', 'Usual', 'mere', 'make', 'Preposterous', 'rich', 'suspe', 'many', 'standout', 'Sure', 'accurate', 'kin', 'saturday', 'na', 'intere', 'fairy', 'ski', 'obvious', 'title', 'equal', 'glamorous', 'shoots', 'hoodlum', 'initial', 'eddie', 'dry', 'believe', 'spectacular', 'thedishonor', 'afraid', 'raid', 'gentle', 'sat', 'recent', 'Special', 'couch', 'logical', 'GOOD', 'f', 'ups', 'u', 'hav', 'documentary', 'teacher', 'want', 'Damian', 'comedymusic', 'lucky', 'Purgatory', 'tal', 'Big', 'update', 'Minor', 'redeeming', 'nos', 'fantasy', 'onomatopoeic', 'filmI', 'entert', 'Sensuous', 'Chinese', '\\x08\\x08\\x08\\x08A', 'procedural', 'successful', 'pm', 'didnt', 'piece', 'c', 'glowi', 'wacky', 'character', 'unexpected', 'find', 'origina', 'previous', 'worth', 'grateful', 'BritishSpanish', 'swedish', 'big', 'abo', 'Sergeant', 'clas', 'Last', 'incoherent', 'saw', 'little', 'tha', 'actionless', 'porn', 'scariest', 'learn', 'countless', 'cast', 'beautiful', 'upon', 'parochial', 'serial', 'witho', 'enjoy', 'solid', 'psychologic', 'wannabe', 'stiff', 'utterly', 'grandiose', 'infamous', 'fabric', 'collective', 'everyday', 'objective', 'respect', 'Anyone', 'likable', 'remade', 'genuine', 'wait', 'spare', 'extreme', 'whimsical', 'praiseworthy', 'formulaic', 'come', 'total', 'enjo', 'wild', 'fil', 'shot', 'act', 'unfathomable', 'particular', 'overblown', 'western', 'feeling', 'nightmare', 'n', 'specialized', 'salacious', 'splendid', 'fir', 'figure', 'fetched', 'nig', 'sheep', 'derivative', 'homosexual', 'exceptional', 'perfectlyThis', 'mine', 'republic', 'redeem', 'latter', 'direct', 'noir', 'outlandish', 'freakin', 'thi', 'acclaimed', 'outright', 've', 'oh', 'vs', 'ube', 'e', 'thought', 'trashy', 'longdefunct', 'Few', 'seismic', 'defined', 'nature', 'French', 'programme', 'su', 'military', 'theater', 'vocabulary', 'Nightmare', 'unknown', 'cam', 'skinny', 'geneticall', 'ov', 'short', 'broad', 'masterpiece', 'soooo', 'impressive', 'talented', 'mumbojumbo', 'digital', 'silly', 'ItalianAmerican', 'acknowledged', 'intern', 'sure', 'qu', 'absurd', 'shopworn', 'Great', 'golden', 'multi', 'Mexican', 'involved', 'elementary', 'sometimesyou', 'psychological', 'prima', 'dusty', 'lovely', 'postapocalyptic', 'superior', 'vengeful', 'married', 'Jewish', 'resurrect', 'd', 'rev', 'awesome', 'pedigree', 'taiwanese', 'pr', 'tom', 'reminiscent', 'half', 'alive', 'sht', 'fine', 'flick', 'useful', 'finish', 'fellow', 'copy', 'innovative', 'protective', 'uncut', 'litt', 'ambitious', 'Famous', 'Give', 'creole', 'especiall', 'unnecessary', 'longtime', 'stumble', 'films', 'kneejerk', 'amaz', 'public', 'Diehl', 'unlikeable', 'unknowing', 'cinema', 'quick', 'hot', 'praised', 'First', 'screen', 'advent', 'blasphemous', 'sweet', 'independant', 'black', 'acronymic', 'spinal', 'app', 'fl', 'dad', 'frothy', 'antifootball', 'FOR', 'male', 'bonanza', 'introverted', 'extraordinary', 'tag', 'summary', 'European', 'great', 'versi', 'understand', 'soccer', 'overall', 'musical', 'unbelievable', 'added', 'forgettable', 'dear', 'scripted', 'Julian', 'comedy', 'melodramatic', 'especial', 'pedestrian', 'lap', 'amazed', 'sh', 'harry', 'forgott', 'cowrote', 'old', 'Curious', 'romantic', 'amateurish', 'squalor', 'special', 'ultra', 'Ok', 'reviewa', 'nocable', 'yo', 'Other', 'soli', 'y', 'hyperbole', 'upfro', 'footb', 'ten', 'girl', 'com', 'long', 'Spike', 'inherent', 'lengthy', 'brief', 'allow', 'villian', 'sloppy', 'lead', 'cinemas', 'saga', 'personal', 'recipe', 'inform', 'like', 'Previous', 'si', 'flak', 'seventh', 'agree', 'heroi', 'ardent', 'samesex', 'handful', 'thin', 'barn', 'straightfaced', 'much', 'Unremarkable', 'ent', 'Wow', 's', 'incredible', 'thisbut', 'monotonous', 'clumsy', 'uplifting', 'Much', 'sort', 'let', 'choppy', 'Asian', 'lov', 'nice', 'audio', 'conceive', 'cultural', 'main', 'comedic', 'ive', 'Lady', 'Cleese', 'wholesome', 'ok', 'glee', 'artsy', 'directorial', 'rathe', 'hig', 'timeless', 'opposite', 'forward', 'American', 'babe', 'lesson', 'twenty', 'mysterious', 'admire', 'recall', 'enthusiastic', 'commentsSEVEN', 'truly', 'nymphomaniac', 'irresistible', 'slap', 'promising', 'Oriental', 'favourite', 'knew', 'tacky', 'definitive', 'cordial', 'resurrected', 'noteworthy', 'entertainin', 'Leese', 'abject', 'bea', 'realise', 'youre', 'start', 'clear', 'mix', 'cheap', 'mixed', 'fascinating', 'conspi', 'fall', 'real', 'rapid', 'stunning', 'suitable', 'complex', 'wellacted', 'notoriety', 'hired', 'distill', 'omen', 'uneve', 'large', 'cyn', 'meteor', 'goofy', 'th', 'project', 'strug', 'awfull', 'Deadly', 'nam', 'scientific', 'disciple', 'lat', 'unoriginal', 'fifty', 'due', 'deceptive', 'type', 'late', 'bickering', 'liked', 'meaningful', 'suk', 'civil', 'drama', 'wellar', 'skilled', 'original', 'hidden', 'i', 'luscious', 'theatrical', 'incomprehensible', 'popular', 'english', 'youve', 'unironic', 'purpose', 'such', 'enormous', 'vocal', 'supernatural', 'active', 'inventive', 'flirting', 'badlyacted', 'powerful', 'comical', 'rent', 'Belgian', 'vast', 'educational', 'lik', 'understate', 'fest', 'satirical', 'secondary', 'fi', 'key', 'unrealistic', 'created', 'sneak', 'psychiatric', 'flagsh', 'british', 'couple', 'ha', 'tedious', 'close', 'triumph', 'whole', 'loved', 'baby', 'young', 'Nay', 'frozen', 'wellmade', 'generic', 'orchestra', 'back', 'photograph', 'cinematic', 'deep', 'biographical', 'overhyped', 'proper', 'nobudget', 'open', 'notable', 'havent', 'filmw', 'thatI', 'Invisible', 'Steven', 'excessive', 'visual', 'sexy', 'Brilliant', 'ideal', 'peaceful', 'alien', 'unfunny', 'sleep', 'unnerv', 'mantle', 'prestigious', 'bevy', 'SLIGHT', 'fictional', 'wonderfu', 'aware', 'decide', 'situational', 'implausible', 'trailer', 'Canadian', 'uninteresting', 'train', 'mind', 'classic', 'spoilerish', 'fabulous', 'terminal', 'lavish', 'switched', 'forgive', 'soap', 'entertaining', 'inside', 'im', 'unique', 'IsraeliPalestinian', 'un', 'modernday', 'm', 'thrilled', 'Adrian', 'Japanese', 'Irréversible', 'massive', 'fourteen', 'soft', 'scenery', 'specific', 'minuss', 'ti', 'Sound', 't', 'rap', 'mon', 'southern', 'epic', 'Screened', 'Military', 'gem', 'youthful', 'annive', 'episode', 'amazing', 'werent', 'Flat', 'whats', 'overactive', 'alot', 'ultramodern', 'Basic', 'Excellent', 'pretty', 'lot', 'unusual', 'archaeologist', 'become', 'wealthy', 'bitten', 'harmless', 'sponge', 'upper', 'funniest', 'memorable', 'fifth', 'surrealistic', 'interesting', 'fran', 'Im', 'auteur', 'slasher', 'dont', 'parlortoprison', 'Reese', 'reviews', 'peva', 'quite', 'clichés', 'fuel', 'comment', 'Contrary', 'common', 'journey', 'genre', 'nerve', 'storyline', 'w', 'disapp', 'top', 'meet', 'mo', 'pen', 'gr', 'prophetic', 'first', 'lif', 'relative', 'ancient', 'condensed', 'wa', 'detailed', 'friend', 'wonde', 'fantastic', 'generous', 'important', 'only', 'Little', 'dysfunctional', 'fat', 'feature', 'build', 'sympathetic', 'gripping', 'childhood', 'gray', 'Your', 'filmmak', 'nihilistic', 'washed', 'premise', 'know', 'Western', 'hoopla', 'em', 'animated', 'win', 'outdated', 'plenty', 'prescree', 'stylish', 'driven', 'preposterous', 'unrealized', 'tail', 'portrayal', 'hardwork', 'warm', 'female', 'Many', 'knowledgeable', 'deadl', 'supposed', 'realTV', 'crusty', 'simplistic', 'picky', 'mean', 'teen', 'wasnt', 'intend', 'hippie', 'Christian', 'noneanimated', 'wonderful', 'dive', 'stagnant', 'Youd', 'linear', 'speechless', 'isnt', 'smalltown', 'Weakstale', 'Incredible', 'psychiatrist', 'fan', 'slo', 'hitandmiss', 'virtual', 'Russian', 'throw', 'lean', 'atrocious', 'emotional', 'Clive', 'Brazilian', 'nuclear', 'happy', 'affluent', 'cavernous', 'edited', 'Italian', 'curious', 'underst', 'humorous', 'kickass', 'futuristic', 'fath', 'awesomeIt', 'minor', 'able', 'tonight', 'essay', 'unint', 'watched', 'few', 'wellworn', 'nostalgic', 'surprised', 'truth', 'unwatchable', 'laconic', 'compare', 'professional', 'le', 'future', 'Nicole', 'cheesy', 'stun', 'single', 'updated', 'par', 'spoof', 'televised', 'goo', 'magical', 'anonymous', 'typical', 'fami', 'bhai', 'Such', 'coed', 'private', 'category', 'understan', 'Swedish', 'alltime', 'gu', 'wasn', 'unlikable', 'illustrious', 'resemble', 'formidable', 'prolific', 'charme', 'flock', 'tra', 'posit', 'negligible', 'sterile', 'arent', 'moviesThis', 'intellectual', 'Mysterious', 'foremost', 'noddin', 'need', 'amaze', 'commit', 'actual', 'British', 'Youll', 'holiday', 'von', 'cute', 'tame', 'wifes', 'north', 'sexual', 'abysmal', 'suspenseful', 'habit', 'purple', 'Purple', 'chase', 'hi', 'unlikely', 'predictable', 'cattle', 'opening', 'last', 'insightful', 'name', 'fauxRussian', 'competent', 'directed', 'iconic', 'decent', 'logic', 'Early', 'police', 'wat', 'buoy', 'diffic', 'strong', 'high', 'usual', 'installment', 'entire', 'weekly', 'speak', 'Eric', 'intolerable', 'shak', 'mummy', 'critique', 'pretentious', 'huge', 'advertiseme', 'subtle', 'junior', 'domestic', 'movi', 'transsexual', 'pure', 'individual', 'detective', 'filmmaking', 'legendary', 'innocentish', 'sweetnatured', 'light', 'comedian', 'right', 'resear', 'hyped', 'cliched', 'slow', 'next', 'ch', 'Polynesian', 'insect', 'racial', 'complete', 'positive', 'possible', 'go', 'bi', 'tread', 'advert', 'political', 'Indian', 'janitor', 'grea', 'portra', 'kibbutz', 'novel', 'exp', 'dog', 'preteen', 'Slovenian', 'concerned', 'care', 'attractive', 'ordinary', 'fr', 'mov', 'qui', 'polish', 'indulge', 'true', 'brilliant', 'Riveting', 'mini', 'classical', 'video', 'theory', 'noted', 'several', 'longt', 'print', 'use', 'laugh', 'new', 'nd', 'Siberian', 'psychedelic', 'fair', 'similar', 'effective', 'woul', 'contra', 'understandable', 'st', 'grow', 'fli', 'atmospheric', 'Amateurish', 'str', 'foreign', 'Seventeen', 'busines', 'trustworthy', 'fresh', 'undistinguished', 'terrific', 'al', 'narrative', 'comic', 'charismatic', 'excess', 'mainstream', 'previews', 'moviet', 'recommend', 'smart', 'Danish', 'outstanding', 'origin', 'give', 'garishly', 'todays', 'literary', 'average', 'second', 'somewhat', 'economic', 'castle', 'everybody', 'exploitative', 'o', 'whic', 'subject', 'list', 'traditional', 'creature', 'rubbish', 'generational', 'expect', 'numerous', 'legend', 'abou', 'conservative', 'tw', 'se', 'stud', 'adorable', 'box', 'cold', 'hollywood', 'favorite', 'same', 'sci', 'daughter', 'campy', 'past', 'warmth', 'imagined', 'pleasant', 'fatale', 'animal', 'tight', 'prototype', 'disasterous', 'animat', 'Is', 'responsible', 'alcoholic', 'Today', 'wellknown', 'posh', 'load', 'file', 'preachy', 'plot', 'local', 'arrival', 'mu', 'Spanish', 'pointless', 'likely', 'pro', 'lighthearted', 'interested', 'sight', 'familiar', 'appropriate', 'misshapen', 'finale', 'dense', 'nonsensical', 'whe', 'safe', 'evocative', 'early', 'international', 'sour', 'novelistscreenwriter', 'hit', 'contemporary', 'watch', 'horde', 'emba', 'energetic', 'ultralow', 'urbane', 'unaired', 'format', 'Teen', 'remake', 'commercial', 'Real', 'lyrical', 'asleep', 'remarkable', 'prissy', 'prime', 'motive', 'scifi', 'social', 'exquisite', 'brush', 'found', 'l', 'mental', 'eff', 'idealized', 'beauti', 'speci', 'mil', 'endless', 'headline', 'famous', 'Fantastic', 'financial', 'nexttolast', 'colorful', 'show', 'sentimental', 'poeticbeautiful', 'US', 'classy', 'white', 'jus', 'halfportuguese', 'cant', 'nu', 'shallow', 'review', 'Marvelous', 'expensive', '«', 'ta', 'nominated', 'sophisticated', 'psychotic', 'prior', 'basic', 'commented', 'reme', 'Australian', 'inclined', 'obscure', 'exact', 'twentys', 'notice', 'sixth', 'general', 'bible', 'impulse', 'b', 'laughable', 'mention', 'pan', 'enjoyable', 'p', 'guy', 'lux', 'addictive', 'minute', 'wish', 'offset', 'laughed', 'ro', 'watchin', 'polite', 'proof', 'ensemble', 'outdoor', 'li', 'blew', 'hilarious', 'fanciful', 'newlywed', 'movieWas', 'todayheard', 'gauzy', 'phenomenal', 'uninspired', 'acting', 'poignant', 'describes', 'extended', 'turgid', 'intergenerational', 'child', 'wondrous', 'aut', 'bigtime', 'fit', 'think', 'empathic', 'gratuitous', 'amorous', 'current', 'sheeplike', 'annoyin', 'vote', 'magnificent', 'library', 'fond', 'potential', 'ready', 'modern', 'unemotional', 'littleseen', 'unpretentious', 'describe', 'speech', 'dese', 'nigh', 'spend', 'wreak', 'tribute', 'getgo', 'false', 'escap', 'simple', 'small', 'postDesperate', 'grand', 'antidrug', 'togetherI', 'actuall', 'Second', 'stylistic', 'weight', 'onedollar', 'g', 'frustra', 'putty', 'ridicul', 'independent', 'OK', 'garnered', 'fame', 'model', 'Puertorican', 'historian', 'loud', 'live', 'episodic', 'comfortable', 'bet', 'fondness', 'mormon', 'marvelous', 'Yellow', 'Korean', 'various', 'stone', 'esthetic', 'form', 'heard', 'incorrigible', 'pict', 'extra', 'dark', 'doesnt', 'enjoyed', 'final', 'nothin', 'related', 'rd', 'fun', 'erotic', 'third', 'genetic', 'attract', 'raw', 'expec', 'quali', 'plastic', 'content', 'gorgeous', 'scenic', 'undeniable', 'cheerful', 'cool', 'standard', 'predic', 'user', 'primitive', 'universe', 'silent', 'artistic', 'sensitive', 'overscripted', 'knowledge', 'flamenco', 'Overall', 'superb', 'fourth', 'German', 'du', 'grownup', 'ship', 'ranked', 'rental', 'ultimate', 'impress', 'rea', 'masterful', 'som', 'ask', 'nonaquatic', 'commentary', 'Lynchian', 'sequel', 'flat', 'intelligent', 'playful', 'quiet', 'GREAT', 'playin', 'ex', 'definite', 'enter', 'tale', 'drunken', 'outline', 'profound', 'inaccurate', 'poorly', 'god', 'devious', 'enough', 'frankly', 'lent', 'delightful', 'full', 'freekin', 'unimaginative', 'og', 'Classic', 'filma', 'femme', 'sto', 'anime', 'Austrian', 'intense', 'Sunshine', 'poetic', 'advice', 'shou', 'hotshot', 'prerelease', 'Iranian', 'major', 'moderate', 'favorable', 'pa', 'wi', 'historical', 'zombi', 'read', 'thee', 'least', 'lo', 'official', 'mystery', 'ideals', 'say', 'surreal', 'funny', 'see', 'delete', 'proud', 'costume', 'speculate', 'giant', 'splendidlydirected', 'inexplicable', 'humanity', 'rare', 'easy', 'sprawling', 'alternate', 'present', 'underrate', 'unsung', 'subgenre', 'good', 'yearold', 'bunch', 'impressed', 'freebird', 'clever', 'bit', 'Twist', 'char', 'liberal', 'inexorable', 'restored', 'witty', 'imaginative', 'punct', 'poorlymade', 'spoilersThe', 'tremendous', 'wide', 'natural', 'steady', 'unavailable', 'mortal', 'ou', 'halfway', 'super', 'sho', 'unde', 'realistic', 'wine', 'unsentimental', 'modesty', 'underrated', 'write', 'regular']\n"
          ],
          "name": "stdout"
        }
      ]
    },
    {
      "cell_type": "code",
      "metadata": {
        "id": "I0AVSG6622Ts",
        "colab_type": "code",
        "outputId": "c95b6865-66c1-40b6-af64-6f6eedfa5ec3",
        "colab": {
          "base_uri": "https://localhost:8080/",
          "height": 54
        }
      },
      "source": [
        "print(type2_terms)"
      ],
      "execution_count": 0,
      "outputs": [
        {
          "output_type": "stream",
          "text": [
            "['trite', 'grim', 'worse', 'trick', 'ominous', 'terrible', 'funeral', 'critical', 'unhappy', 'forced', 'critic', 'weak', 'shame', 'worst', 'unfortunate', 'guilty', 'Screwball', 'teased', 'painful', 'lose', 'suspect', 'negative', 'offensive', 'cry', 'unbiased', 'dire', 'Notorious', 'hard', 'crazy', 'frustrated', 'useless', 'sad', 'questionable', 'ridiculous', 'ruin', 'skeptical', 'mindless', 'crazed', 'unworthy', 'Worst', 'arrogant', 'poor', 'dreadful', 'tricky', 'obsessive', 'dubious', 'eerie', 'low', 'dumb', 'Repetitive', 'scary', 'Sadly', 'screwy', 'flop', 'hell', 'cruel', 'desperate', 'odd', 'illegal', 'evil', 'ludicrous', 'uptight', 'Painful', 'Horrendous', 'awful', 'steal', 'naive', 'accident', 'indifferent', 'alone', 'vile', 'suspicious', 'failed', 'stop', 'insipid', 'sappy', 'violated', 'stupid', 'disappointing', 'bloody', 'wrong', 'wasted', 'inadequate', 'erroneous', 'bitter', 'Stupid', 'hate', 'maniacal', 'harsh', 'distrust', 'sick', 'unimpressive', 'bizarre', 'idiotic', 'horrible', 'angry', 'horror', 'difficult', 'nonsense', 'horrendous', 'numbs', 'confused', 'obsess', 'crappy', 'swear', 'rant', 'appalling', 'apocalyptic', 'scared', 'unmatched', 'fight', 'forgotten', 'worn', 'repetitive', 'tough', 'bad', 'uninvolving', 'submissive', 'dumbest', 'mad', 'overlooked', 'brutal', 'neglect', 'risky', 'Panic', 'inferior', 'dead', 'notorious', 'Terrible', 'lousy', 'skeptic', 'lame', 'silliness', 'nasty', 'horrified', 'miss', 'pretend', 'depressing', 'serious', 'criticize', 'violent', 'tragic', 'dreary', 'offense', 'boring', 'unacceptable', 'horrific', 'controversial', 'bomb', 'sorry', 'disturbed', 'dull', 'Thief', 'Ridiculous', 'cut', 'Cruel', 'shoot', 'hysterical', 'curse', 'complain', 'weird', 'pathetic', 'misunderstood', 'vicious', 'miserable', 'awkward', 'disappointed', 'childish', 'tired', 'strange', 'doubt']\n"
          ],
          "name": "stdout"
        }
      ]
    },
    {
      "cell_type": "code",
      "metadata": {
        "id": "H6UZ2wfJ3ao3",
        "colab_type": "code",
        "colab": {}
      },
      "source": [
        ""
      ],
      "execution_count": 0,
      "outputs": []
    }
  ]
}