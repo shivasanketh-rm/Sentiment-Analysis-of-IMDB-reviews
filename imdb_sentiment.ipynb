{
  "nbformat": 4,
  "nbformat_minor": 0,
  "metadata": {
    "anaconda-cloud": {},
    "kernelspec": {
      "name": "python3",
      "display_name": "Python 3"
    },
    "colab": {
      "name": "imdb_sentiment.ipynb",
      "provenance": [],
      "collapsed_sections": []
    },
    "accelerator": "GPU"
  },
  "cells": [
    {
      "cell_type": "markdown",
      "metadata": {
        "id": "qVtbImlFwJh5",
        "colab_type": "text"
      },
      "source": [
        "# Sentiment analysis on IMDB review data"
      ]
    },
    {
      "cell_type": "code",
      "metadata": {
        "id": "FWI29L6JtUMl",
        "colab_type": "code",
        "colab": {
          "base_uri": "https://localhost:8080/",
          "height": 50
        },
        "outputId": "c92ccdce-04e2-4352-8a98-2449e9bad72e"
      },
      "source": [
        "import pandas as pd\n",
        "from sklearn.feature_extraction.text import CountVectorizer\n",
        "from sklearn.feature_extraction.text import TfidfVectorizer\n",
        "\n",
        "import matplotlib.pyplot as plt\n",
        "%matplotlib inline\n",
        "plt.rcParams['figure.figsize'] = 12, 12\n",
        "\n",
        "from sklearn.linear_model import LogisticRegression\n",
        "from sklearn.naive_bayes import BernoulliNB\n",
        "from sklearn.cluster import KMeans\n",
        "from sklearn import metrics\n",
        "\n",
        "import nltk\n",
        "nltk.download('vader_lexicon')\n",
        "from nltk.sentiment.vader import SentimentIntensityAnalyzer\n",
        "analyser = SentimentIntensityAnalyzer()"
      ],
      "execution_count": 2,
      "outputs": [
        {
          "output_type": "stream",
          "text": [
            "[nltk_data] Downloading package vader_lexicon to /root/nltk_data...\n",
            "[nltk_data]   Package vader_lexicon is already up-to-date!\n"
          ],
          "name": "stdout"
        }
      ]
    },
    {
      "cell_type": "code",
      "metadata": {
        "id": "WRL8BfjSwJiE",
        "colab_type": "code",
        "outputId": "09f804e1-ca4a-4484-b176-e305a8a5a82e",
        "colab": {
          "base_uri": "https://localhost:8080/",
          "height": 195
        }
      },
      "source": [
        "df_imbd = pd.read_csv(\"imdb.csv\")\n",
        "df_imbd.head()"
      ],
      "execution_count": 3,
      "outputs": [
        {
          "output_type": "execute_result",
          "data": {
            "text/html": [
              "<div>\n",
              "<style scoped>\n",
              "    .dataframe tbody tr th:only-of-type {\n",
              "        vertical-align: middle;\n",
              "    }\n",
              "\n",
              "    .dataframe tbody tr th {\n",
              "        vertical-align: top;\n",
              "    }\n",
              "\n",
              "    .dataframe thead th {\n",
              "        text-align: right;\n",
              "    }\n",
              "</style>\n",
              "<table border=\"1\" class=\"dataframe\">\n",
              "  <thead>\n",
              "    <tr style=\"text-align: right;\">\n",
              "      <th></th>\n",
              "      <th>Text</th>\n",
              "      <th>Class</th>\n",
              "    </tr>\n",
              "  </thead>\n",
              "  <tbody>\n",
              "    <tr>\n",
              "      <th>0</th>\n",
              "      <td>'One of the first of the best musicals Anchors...</td>\n",
              "      <td>P</td>\n",
              "    </tr>\n",
              "    <tr>\n",
              "      <th>1</th>\n",
              "      <td>'Visually disjointed and full of itself the di...</td>\n",
              "      <td>N</td>\n",
              "    </tr>\n",
              "    <tr>\n",
              "      <th>2</th>\n",
              "      <td>'These type of movies about young teenagers st...</td>\n",
              "      <td>P</td>\n",
              "    </tr>\n",
              "    <tr>\n",
              "      <th>3</th>\n",
              "      <td>'I would rather of had my eyes gouged out with...</td>\n",
              "      <td>N</td>\n",
              "    </tr>\n",
              "    <tr>\n",
              "      <th>4</th>\n",
              "      <td>'The title says it all. Tail Gunner Joe was a ...</td>\n",
              "      <td>N</td>\n",
              "    </tr>\n",
              "  </tbody>\n",
              "</table>\n",
              "</div>"
            ],
            "text/plain": [
              "                                                Text Class\n",
              "0  'One of the first of the best musicals Anchors...     P\n",
              "1  'Visually disjointed and full of itself the di...     N\n",
              "2  'These type of movies about young teenagers st...     P\n",
              "3  'I would rather of had my eyes gouged out with...     N\n",
              "4  'The title says it all. Tail Gunner Joe was a ...     N"
            ]
          },
          "metadata": {
            "tags": []
          },
          "execution_count": 3
        }
      ]
    },
    {
      "cell_type": "markdown",
      "metadata": {
        "id": "RXWqonpLz_fS",
        "colab_type": "text"
      },
      "source": [
        "## Supervised learning using Count Vectorizer and TF-IDF with Logistic Regression and Bernoulli Naive Bayes method"
      ]
    },
    {
      "cell_type": "markdown",
      "metadata": {
        "id": "Yfe2416MwJiK",
        "colab_type": "text"
      },
      "source": [
        "Convert Dependent variable into numeric value"
      ]
    },
    {
      "cell_type": "code",
      "metadata": {
        "id": "rSsTjzWhwJiM",
        "colab_type": "code",
        "outputId": "0f4edce0-ed92-4ff6-89b9-ce028b433da0",
        "colab": {
          "base_uri": "https://localhost:8080/",
          "height": 195
        }
      },
      "source": [
        "df_imbd.Class[df_imbd.Class == 'P'] = 1\n",
        "df_imbd.Class[df_imbd.Class == 'N'] = 0\n",
        "df_imbd = df_imbd.dropna(how = 'any')\n",
        "df_imbd.head()"
      ],
      "execution_count": 4,
      "outputs": [
        {
          "output_type": "execute_result",
          "data": {
            "text/html": [
              "<div>\n",
              "<style scoped>\n",
              "    .dataframe tbody tr th:only-of-type {\n",
              "        vertical-align: middle;\n",
              "    }\n",
              "\n",
              "    .dataframe tbody tr th {\n",
              "        vertical-align: top;\n",
              "    }\n",
              "\n",
              "    .dataframe thead th {\n",
              "        text-align: right;\n",
              "    }\n",
              "</style>\n",
              "<table border=\"1\" class=\"dataframe\">\n",
              "  <thead>\n",
              "    <tr style=\"text-align: right;\">\n",
              "      <th></th>\n",
              "      <th>Text</th>\n",
              "      <th>Class</th>\n",
              "    </tr>\n",
              "  </thead>\n",
              "  <tbody>\n",
              "    <tr>\n",
              "      <th>0</th>\n",
              "      <td>'One of the first of the best musicals Anchors...</td>\n",
              "      <td>1</td>\n",
              "    </tr>\n",
              "    <tr>\n",
              "      <th>1</th>\n",
              "      <td>'Visually disjointed and full of itself the di...</td>\n",
              "      <td>0</td>\n",
              "    </tr>\n",
              "    <tr>\n",
              "      <th>2</th>\n",
              "      <td>'These type of movies about young teenagers st...</td>\n",
              "      <td>1</td>\n",
              "    </tr>\n",
              "    <tr>\n",
              "      <th>3</th>\n",
              "      <td>'I would rather of had my eyes gouged out with...</td>\n",
              "      <td>0</td>\n",
              "    </tr>\n",
              "    <tr>\n",
              "      <th>4</th>\n",
              "      <td>'The title says it all. Tail Gunner Joe was a ...</td>\n",
              "      <td>0</td>\n",
              "    </tr>\n",
              "  </tbody>\n",
              "</table>\n",
              "</div>"
            ],
            "text/plain": [
              "                                                Text Class\n",
              "0  'One of the first of the best musicals Anchors...     1\n",
              "1  'Visually disjointed and full of itself the di...     0\n",
              "2  'These type of movies about young teenagers st...     1\n",
              "3  'I would rather of had my eyes gouged out with...     0\n",
              "4  'The title says it all. Tail Gunner Joe was a ...     0"
            ]
          },
          "metadata": {
            "tags": []
          },
          "execution_count": 4
        }
      ]
    },
    {
      "cell_type": "markdown",
      "metadata": {
        "id": "q88rGVvQwJiQ",
        "colab_type": "text"
      },
      "source": [
        "Train Test data split using SKlearn library"
      ]
    },
    {
      "cell_type": "code",
      "metadata": {
        "id": "ckENuGynwJiS",
        "colab_type": "code",
        "outputId": "da92fa5a-45b6-49d8-c369-995b4ea6a5ac",
        "colab": {
          "base_uri": "https://localhost:8080/",
          "height": 34
        }
      },
      "source": [
        "from sklearn.model_selection import train_test_split\n",
        "X = df_imbd.Text\n",
        "Y = df_imbd.Class\n",
        "Corpus_train, Corpus_test, Y_train, Y_test = train_test_split(X, Y, test_size=0.25)\n",
        "print(Corpus_train.shape,Corpus_test.shape,Y_train.shape,Y_test.shape)\n"
      ],
      "execution_count": 5,
      "outputs": [
        {
          "output_type": "stream",
          "text": [
            "(6374,) (2125,) (6374,) (2125,)\n"
          ],
          "name": "stdout"
        }
      ]
    },
    {
      "cell_type": "markdown",
      "metadata": {
        "id": "QhFI3F6DwJiW",
        "colab_type": "text"
      },
      "source": [
        "Using binary `CountVectorizer()` and a binary `TfidfVectorizer()`"
      ]
    },
    {
      "cell_type": "code",
      "metadata": {
        "id": "IYIue6e1wJiY",
        "colab_type": "code",
        "outputId": "7a540421-2af9-4676-c000-3dd72a879a73",
        "colab": {
          "base_uri": "https://localhost:8080/",
          "height": 151
        }
      },
      "source": [
        "#CountVectorizer with English stopwords and N-gram: 1-2\n",
        "vectorizer = CountVectorizer(stop_words=\"english\", ngram_range=(1,2), binary = True)\n",
        "X_train_CV = vectorizer.fit(Corpus_train).transform(Corpus_train)\n",
        "X_test_CV = vectorizer.transform(Corpus_test)\n",
        "\n",
        "print(\"Vocabulary size: {}\".format(len(vectorizer.vocabulary_)))\n",
        "print(\"X_train:\\n{}\".format(repr(X_train_CV)))\n",
        "print(\"X_test: \\n{}\".format(repr(X_test_CV)))\n",
        "\n",
        "feature_names = vectorizer.get_feature_names()\n",
        "print(\"Number of features: {}\".format(len(feature_names)))"
      ],
      "execution_count": 6,
      "outputs": [
        {
          "output_type": "stream",
          "text": [
            "Vocabulary size: 568521\n",
            "X_train:\n",
            "<6374x568521 sparse matrix of type '<class 'numpy.int64'>'\n",
            "\twith 1252917 stored elements in Compressed Sparse Row format>\n",
            "X_test: \n",
            "<2125x568521 sparse matrix of type '<class 'numpy.int64'>'\n",
            "\twith 255424 stored elements in Compressed Sparse Row format>\n",
            "Number of features: 568521\n"
          ],
          "name": "stdout"
        }
      ]
    },
    {
      "cell_type": "code",
      "metadata": {
        "id": "k_rkvX5f-XT3",
        "colab_type": "code",
        "outputId": "654ef058-5f75-46a4-9ca9-629d4820e33f",
        "colab": {
          "base_uri": "https://localhost:8080/",
          "height": 151
        }
      },
      "source": [
        "#TfidfVectorizer with English stopwords and N-gram: 1-2\n",
        "vectorizer_TF = TfidfVectorizer(stop_words=\"english\", ngram_range=(1,2), binary = True)\n",
        "\n",
        "X_train_TF = vectorizer_TF.fit(Corpus_train).transform(Corpus_train)\n",
        "X_test_TF = vectorizer_TF.transform(Corpus_test)\n",
        "\n",
        "print(\"Vocabulary size: {}\".format(len(vectorizer_TF.vocabulary_)))\n",
        "print(\"X_train:\\n{}\".format(repr(X_train_TF)))\n",
        "print(\"X_test: \\n{}\".format(repr(X_test_TF)))\n",
        "\n",
        "feature_names = vectorizer_TF.get_feature_names()\n",
        "print(\"Number of features: {}\".format(len(feature_names)))"
      ],
      "execution_count": 7,
      "outputs": [
        {
          "output_type": "stream",
          "text": [
            "Vocabulary size: 568521\n",
            "X_train:\n",
            "<6374x568521 sparse matrix of type '<class 'numpy.float64'>'\n",
            "\twith 1252917 stored elements in Compressed Sparse Row format>\n",
            "X_test: \n",
            "<2125x568521 sparse matrix of type '<class 'numpy.float64'>'\n",
            "\twith 255424 stored elements in Compressed Sparse Row format>\n",
            "Number of features: 568521\n"
          ],
          "name": "stdout"
        }
      ]
    },
    {
      "cell_type": "markdown",
      "metadata": {
        "id": "C39d80r3wJid",
        "colab_type": "text"
      },
      "source": [
        "Using `LogisticRegression()` and `BernoulliNB()` models for Supervised classification of Count Vectorizer as well TF-IDF models"
      ]
    },
    {
      "cell_type": "code",
      "metadata": {
        "id": "bhf8XByLwJim",
        "colab_type": "code",
        "outputId": "2a40fb2e-5288-4943-cd51-98b09b6f6894",
        "colab": {
          "base_uri": "https://localhost:8080/",
          "height": 87
        }
      },
      "source": [
        "Y_train=Y_train.astype('int')\n",
        "\n",
        "# Logistic Regression \n",
        "model_LR_CV = LogisticRegression()\n",
        "model_LR_CV.fit(X_train_CV, Y_train)\n",
        "model_LR_TF = LogisticRegression()\n",
        "model_LR_TF.fit(X_train_TF, Y_train)\n",
        "\n",
        "\n",
        "# Bernoulli Naive Bayes\n",
        "model_BNB_CV = BernoulliNB()\n",
        "model_BNB_CV.fit(X_train_CV, Y_train)\n",
        "model_BNB_TF = BernoulliNB()\n",
        "model_BNB_TF.fit(X_train_TF, Y_train)"
      ],
      "execution_count": 8,
      "outputs": [
        {
          "output_type": "stream",
          "text": [
            "/usr/local/lib/python3.6/dist-packages/sklearn/linear_model/logistic.py:432: FutureWarning: Default solver will be changed to 'lbfgs' in 0.22. Specify a solver to silence this warning.\n",
            "  FutureWarning)\n"
          ],
          "name": "stderr"
        },
        {
          "output_type": "execute_result",
          "data": {
            "text/plain": [
              "BernoulliNB(alpha=1.0, binarize=0.0, class_prior=None, fit_prior=True)"
            ]
          },
          "metadata": {
            "tags": []
          },
          "execution_count": 8
        }
      ]
    },
    {
      "cell_type": "code",
      "metadata": {
        "id": "D9GkHMl7HIWo",
        "colab_type": "code",
        "outputId": "2400c838-a6e7-403f-ae0b-34c2ce09a566",
        "colab": {
          "base_uri": "https://localhost:8080/",
          "height": 101
        }
      },
      "source": [
        "LR_CV_pred = model_LR_CV.predict(X_test_CV)\n",
        "AUC_LR_CV = metrics.roc_auc_score(LR_CV_pred, Y_test)\n",
        "LR_CV_fpr, LR_CV_tpr, _ = metrics.roc_curve(LR_CV_pred, Y_test)\n",
        "\n",
        "LR_TF_pred = model_LR_TF.predict(X_test_TF)\n",
        "AU_LR_TF = metrics.roc_auc_score(LR_TF_pred, Y_test)\n",
        "LR_TF_fpr, LR_TF_tpr, _ = metrics.roc_curve(LR_TF_pred, Y_test)\n",
        "\n",
        "BNB_CV_pred = model_BNB_CV.predict(X_test_CV)\n",
        "AUC_BNB_CV = metrics.roc_auc_score(BNB_CV_pred, Y_test)\n",
        "BNB_CV_fpr, BNB_CV_tpr, _ = metrics.roc_curve(BNB_CV_pred, Y_test)\n",
        "\n",
        "BNB_TF_pred = model_BNB_TF.predict(X_test_TF)\n",
        "AUC_BNB_TF = metrics.roc_auc_score(BNB_TF_pred, Y_test)\n",
        "BNB_TF_fpr, BNB_TF_tpr, _ = metrics.roc_curve(BNB_TF_pred, Y_test)\n",
        "\n",
        "print(AUC_LR_CV ,AU_LR_TF ,AUC_BNB_CV ,AUC_BNB_TF)\n",
        "print(\"Logistic Regression with Count Vectorizer = \",AUC_LR_CV )\n",
        "print(\"Logistic Regression with TfidfVectorizer = \",AU_LR_TF )\n",
        "print(\"BernoulliNB with Count Vectorizer = \",AUC_BNB_CV)\n",
        "print(\"BernoulliNB with TfidfVectorizer = \",AUC_BNB_TF )"
      ],
      "execution_count": 9,
      "outputs": [
        {
          "output_type": "stream",
          "text": [
            "0.8670652683633884 0.8691621651787692 0.862059642154225 0.862059642154225\n",
            "Logistic Regression with Count Vectorizer =  0.8670652683633884\n",
            "Logistic Regression with TfidfVectorizer =  0.8691621651787692\n",
            "BernoulliNB with Count Vectorizer =  0.862059642154225\n",
            "BernoulliNB with TfidfVectorizer =  0.862059642154225\n"
          ],
          "name": "stdout"
        }
      ]
    },
    {
      "cell_type": "code",
      "metadata": {
        "id": "jtb-0SkpKxPF",
        "colab_type": "code",
        "outputId": "27ec94dd-2fcc-4c45-b47f-c1d5319c76c8",
        "colab": {
          "base_uri": "https://localhost:8080/",
          "height": 730
        }
      },
      "source": [
        "# plot the roc curve for the model\n",
        "plt.plot(LR_CV_fpr, LR_CV_tpr, linestyle='--', label='Logistic Regression with Count Vectorizer')\n",
        "plt.plot(LR_TF_fpr, LR_TF_tpr, linestyle=':', label='Logistic Regression with TfidfVectorizer')\n",
        "plt.plot(BNB_CV_fpr, BNB_CV_tpr, linestyle='-', label='BernoulliNB with Count Vectorizer')\n",
        "plt.plot(BNB_TF_fpr, BNB_TF_tpr, linestyle='-.', label='BernoulliNB with TfidfVectorizer')\n",
        "# axis labels\n",
        "plt.xlabel('False Positive Rate')\n",
        "plt.ylabel('True Positive Rate')\n",
        "# show the legend\n",
        "plt.legend()\n",
        "plt.title(\"AUC curve\")\n",
        "plt.show()"
      ],
      "execution_count": 10,
      "outputs": [
        {
          "output_type": "display_data",
          "data": {
            "image/png": "[encoded data removed]",
            "text/plain": [
              "<Figure size 864x864 with 1 Axes>"
            ]
          },
          "metadata": {
            "tags": []
          }
        }
      ]
    },
    {
      "cell_type": "markdown",
      "metadata": {
        "id": "ZeieJaC2VTnX",
        "colab_type": "text"
      },
      "source": [
        "Logistic Regression with Count Vectorizer performs better Sentiment analysis than other models with AUC of 0.8693"
      ]
    },
    {
      "cell_type": "markdown",
      "metadata": {
        "id": "hsiifMQK0T26",
        "colab_type": "text"
      },
      "source": [
        "## Unsupervised learning"
      ]
    },
    {
      "cell_type": "code",
      "metadata": {
        "id": "H6UZ2wfJ3ao3",
        "colab_type": "code",
        "colab": {}
      },
      "source": [
        "#Perform TF-IDF on whole dataset\n",
        "TFIDF_matrix = vectorizer_TF.fit(X).transform(X)\n",
        "Vectorizer_matrix = vectorizer.fit(X).transform(X)"
      ],
      "execution_count": 0,
      "outputs": []
    },
    {
      "cell_type": "code",
      "metadata": {
        "id": "ghWNKC273ub0",
        "colab_type": "code",
        "colab": {}
      },
      "source": [
        "num_clusters = 2\n",
        "k_means_vect = KMeans(n_clusters=num_clusters)\n",
        "k_means_vect.fit(X_train_CV)\n",
        "clusters_vect = k_means_vect.labels_.tolist()"
      ],
      "execution_count": 0,
      "outputs": []
    },
    {
      "cell_type": "code",
      "metadata": {
        "id": "e3XAmdaTFU_i",
        "colab_type": "code",
        "colab": {}
      },
      "source": [
        "k_means_TFIDF = KMeans(n_clusters=num_clusters)\n",
        "k_means_TFIDF.fit(X_train_TF)\n",
        "clusters_TFIDF = k_means_TFIDF.labels_.tolist()"
      ],
      "execution_count": 0,
      "outputs": []
    },
    {
      "cell_type": "code",
      "metadata": {
        "id": "Wpdy1k5LH6a8",
        "colab_type": "code",
        "outputId": "548dbe13-8f4c-4ed7-9fa7-17eee94dc6da",
        "colab": {
          "base_uri": "https://localhost:8080/",
          "height": 343
        }
      },
      "source": [
        "Y_train = Y_train.astype('int')\n",
        "Y_neg = [int(not(x)) for x in Y_train.to_list()]\n",
        "dict_vect = {'Name': Corpus_train.tolist(), 'Cluster': clusters_vect, 'Neg Class': (Y_neg), 'Class': Y_train.tolist()}\n",
        "frame_vect = pd.DataFrame(dict_vect, index = [clusters_vect])\n",
        "frame_vect.sample(10)\n",
        "#Negate of the clusters are considered as clustering only outputs as two separate classes and not as positive or negative"
      ],
      "execution_count": 14,
      "outputs": [
        {
          "output_type": "execute_result",
          "data": {
            "text/html": [
              "<div>\n",
              "<style scoped>\n",
              "    .dataframe tbody tr th:only-of-type {\n",
              "        vertical-align: middle;\n",
              "    }\n",
              "\n",
              "    .dataframe tbody tr th {\n",
              "        vertical-align: top;\n",
              "    }\n",
              "\n",
              "    .dataframe thead th {\n",
              "        text-align: right;\n",
              "    }\n",
              "</style>\n",
              "<table border=\"1\" class=\"dataframe\">\n",
              "  <thead>\n",
              "    <tr style=\"text-align: right;\">\n",
              "      <th></th>\n",
              "      <th>Name</th>\n",
              "      <th>Cluster</th>\n",
              "      <th>Neg Class</th>\n",
              "      <th>Class</th>\n",
              "    </tr>\n",
              "  </thead>\n",
              "  <tbody>\n",
              "    <tr>\n",
              "      <th>0</th>\n",
              "      <td>'Just like wine Johnny Dangerously gets better...</td>\n",
              "      <td>0</td>\n",
              "      <td>0</td>\n",
              "      <td>1</td>\n",
              "    </tr>\n",
              "    <tr>\n",
              "      <th>0</th>\n",
              "      <td>'Why such a generic title? Santa Claus??? So b...</td>\n",
              "      <td>0</td>\n",
              "      <td>1</td>\n",
              "      <td>0</td>\n",
              "    </tr>\n",
              "    <tr>\n",
              "      <th>0</th>\n",
              "      <td>'Deanna Durbin Nan Grey and Barbara Read are T...</td>\n",
              "      <td>0</td>\n",
              "      <td>0</td>\n",
              "      <td>1</td>\n",
              "    </tr>\n",
              "    <tr>\n",
              "      <th>0</th>\n",
              "      <td>'I saw this film earlier today and I was amaze...</td>\n",
              "      <td>0</td>\n",
              "      <td>0</td>\n",
              "      <td>1</td>\n",
              "    </tr>\n",
              "    <tr>\n",
              "      <th>0</th>\n",
              "      <td>'What has Ireland ever done to film distribute...</td>\n",
              "      <td>0</td>\n",
              "      <td>1</td>\n",
              "      <td>0</td>\n",
              "    </tr>\n",
              "    <tr>\n",
              "      <th>0</th>\n",
              "      <td>'What a brilliant film. I will admit it is ver...</td>\n",
              "      <td>0</td>\n",
              "      <td>0</td>\n",
              "      <td>1</td>\n",
              "    </tr>\n",
              "    <tr>\n",
              "      <th>0</th>\n",
              "      <td>'Based on Robert Louis Stevensons St. Ives the...</td>\n",
              "      <td>0</td>\n",
              "      <td>0</td>\n",
              "      <td>1</td>\n",
              "    </tr>\n",
              "    <tr>\n",
              "      <th>0</th>\n",
              "      <td>'Sorry but every time I see a film wherein a w...</td>\n",
              "      <td>0</td>\n",
              "      <td>1</td>\n",
              "      <td>0</td>\n",
              "    </tr>\n",
              "    <tr>\n",
              "      <th>0</th>\n",
              "      <td>'The opening flourishes left me purring with d...</td>\n",
              "      <td>0</td>\n",
              "      <td>0</td>\n",
              "      <td>1</td>\n",
              "    </tr>\n",
              "    <tr>\n",
              "      <th>0</th>\n",
              "      <td>'I saw this film at a time when I was timidly ...</td>\n",
              "      <td>0</td>\n",
              "      <td>0</td>\n",
              "      <td>1</td>\n",
              "    </tr>\n",
              "  </tbody>\n",
              "</table>\n",
              "</div>"
            ],
            "text/plain": [
              "                                                Name  Cluster  Neg Class  Class\n",
              "0  'Just like wine Johnny Dangerously gets better...        0          0      1\n",
              "0  'Why such a generic title? Santa Claus??? So b...        0          1      0\n",
              "0  'Deanna Durbin Nan Grey and Barbara Read are T...        0          0      1\n",
              "0  'I saw this film earlier today and I was amaze...        0          0      1\n",
              "0  'What has Ireland ever done to film distribute...        0          1      0\n",
              "0  'What a brilliant film. I will admit it is ver...        0          0      1\n",
              "0  'Based on Robert Louis Stevensons St. Ives the...        0          0      1\n",
              "0  'Sorry but every time I see a film wherein a w...        0          1      0\n",
              "0  'The opening flourishes left me purring with d...        0          0      1\n",
              "0  'I saw this film at a time when I was timidly ...        0          0      1"
            ]
          },
          "metadata": {
            "tags": []
          },
          "execution_count": 14
        }
      ]
    },
    {
      "cell_type": "code",
      "metadata": {
        "id": "YbJ5gwXX4Vnj",
        "colab_type": "code",
        "outputId": "fc8c24a0-db7d-4af3-c48c-d23ee7fcc341",
        "colab": {
          "base_uri": "https://localhost:8080/",
          "height": 343
        }
      },
      "source": [
        "dict_TFIDF = {'Name': Corpus_train.tolist(), 'Cluster': clusters_TFIDF, 'Neg Class': (Y_neg), 'Class': Y_train.tolist()}\n",
        "frame_TFIDF = pd.DataFrame(dict_TFIDF, index = [clusters_TFIDF])\n",
        "frame_TFIDF.sample(10)"
      ],
      "execution_count": 15,
      "outputs": [
        {
          "output_type": "execute_result",
          "data": {
            "text/html": [
              "<div>\n",
              "<style scoped>\n",
              "    .dataframe tbody tr th:only-of-type {\n",
              "        vertical-align: middle;\n",
              "    }\n",
              "\n",
              "    .dataframe tbody tr th {\n",
              "        vertical-align: top;\n",
              "    }\n",
              "\n",
              "    .dataframe thead th {\n",
              "        text-align: right;\n",
              "    }\n",
              "</style>\n",
              "<table border=\"1\" class=\"dataframe\">\n",
              "  <thead>\n",
              "    <tr style=\"text-align: right;\">\n",
              "      <th></th>\n",
              "      <th>Name</th>\n",
              "      <th>Cluster</th>\n",
              "      <th>Neg Class</th>\n",
              "      <th>Class</th>\n",
              "    </tr>\n",
              "  </thead>\n",
              "  <tbody>\n",
              "    <tr>\n",
              "      <th>0</th>\n",
              "      <td>'Since musicals have both gone out of fashion ...</td>\n",
              "      <td>0</td>\n",
              "      <td>0</td>\n",
              "      <td>1</td>\n",
              "    </tr>\n",
              "    <tr>\n",
              "      <th>0</th>\n",
              "      <td>' An old man works as a janitor in a mental ho...</td>\n",
              "      <td>0</td>\n",
              "      <td>0</td>\n",
              "      <td>1</td>\n",
              "    </tr>\n",
              "    <tr>\n",
              "      <th>1</th>\n",
              "      <td>'Its a strange yet somehow impressive story ab...</td>\n",
              "      <td>1</td>\n",
              "      <td>0</td>\n",
              "      <td>1</td>\n",
              "    </tr>\n",
              "    <tr>\n",
              "      <th>1</th>\n",
              "      <td>'It is such a strange movie you can call it aw...</td>\n",
              "      <td>1</td>\n",
              "      <td>1</td>\n",
              "      <td>0</td>\n",
              "    </tr>\n",
              "    <tr>\n",
              "      <th>0</th>\n",
              "      <td>'I saw this movie twice through a pentecostal ...</td>\n",
              "      <td>0</td>\n",
              "      <td>1</td>\n",
              "      <td>0</td>\n",
              "    </tr>\n",
              "    <tr>\n",
              "      <th>1</th>\n",
              "      <td>'Unlike endemol USAs two other current game sh...</td>\n",
              "      <td>1</td>\n",
              "      <td>1</td>\n",
              "      <td>0</td>\n",
              "    </tr>\n",
              "    <tr>\n",
              "      <th>1</th>\n",
              "      <td>'I havent seen the first two - only this one w...</td>\n",
              "      <td>1</td>\n",
              "      <td>1</td>\n",
              "      <td>0</td>\n",
              "    </tr>\n",
              "    <tr>\n",
              "      <th>0</th>\n",
              "      <td>'Tremendous black--and-white nighttime cinemat...</td>\n",
              "      <td>0</td>\n",
              "      <td>0</td>\n",
              "      <td>1</td>\n",
              "    </tr>\n",
              "    <tr>\n",
              "      <th>1</th>\n",
              "      <td>'I registered just to make this comment (which...</td>\n",
              "      <td>1</td>\n",
              "      <td>1</td>\n",
              "      <td>0</td>\n",
              "    </tr>\n",
              "    <tr>\n",
              "      <th>1</th>\n",
              "      <td>'Stupid Stupid Stupid. I think that Angelina J...</td>\n",
              "      <td>1</td>\n",
              "      <td>0</td>\n",
              "      <td>1</td>\n",
              "    </tr>\n",
              "  </tbody>\n",
              "</table>\n",
              "</div>"
            ],
            "text/plain": [
              "                                                Name  Cluster  Neg Class  Class\n",
              "0  'Since musicals have both gone out of fashion ...        0          0      1\n",
              "0  ' An old man works as a janitor in a mental ho...        0          0      1\n",
              "1  'Its a strange yet somehow impressive story ab...        1          0      1\n",
              "1  'It is such a strange movie you can call it aw...        1          1      0\n",
              "0  'I saw this movie twice through a pentecostal ...        0          1      0\n",
              "1  'Unlike endemol USAs two other current game sh...        1          1      0\n",
              "1  'I havent seen the first two - only this one w...        1          1      0\n",
              "0  'Tremendous black--and-white nighttime cinemat...        0          0      1\n",
              "1  'I registered just to make this comment (which...        1          1      0\n",
              "1  'Stupid Stupid Stupid. I think that Angelina J...        1          0      1"
            ]
          },
          "metadata": {
            "tags": []
          },
          "execution_count": 15
        }
      ]
    },
    {
      "cell_type": "code",
      "metadata": {
        "id": "zAToJnitUwAv",
        "colab_type": "code",
        "outputId": "a253a878-b02d-4052-9064-5a0cf5e4d248",
        "colab": {
          "base_uri": "https://localhost:8080/",
          "height": 50
        }
      },
      "source": [
        "Y_train = Y_train.astype('int')\n",
        "auc_neg_vect = metrics.accuracy_score(Y_neg, clusters_vect)\n",
        "auc_vect = metrics.accuracy_score(Y_train, clusters_vect)\n",
        "print(\"Accuracy score on output clusters with Count Vectorization = \", auc_vect)\n",
        "print(\"Accuracy score on output clusters negated with Count Vectorization = \", auc_neg_vect)"
      ],
      "execution_count": 24,
      "outputs": [
        {
          "output_type": "stream",
          "text": [
            "Accuracy score on output clusters with Count Vectorization =  0.5029808597427048\n",
            "Accuracy score on output clusters negated with Count Vectorization =  0.49701914025729527\n"
          ],
          "name": "stdout"
        }
      ]
    },
    {
      "cell_type": "code",
      "metadata": {
        "id": "nxrhNKdA4oHH",
        "colab_type": "code",
        "outputId": "dcb4aef1-76ad-4bc4-fed3-f003c1322412",
        "colab": {
          "base_uri": "https://localhost:8080/",
          "height": 50
        }
      },
      "source": [
        "auc_neg_TFIDF = metrics.accuracy_score(Y_neg, clusters_TFIDF)\n",
        "auc_TFIDF = metrics.accuracy_score(Y_train, clusters_TFIDF)\n",
        "print(\"Accuracy score on output clusters with Count Vectorization = \", auc_TFIDF)\n",
        "print(\"Accuracy score on output clusters negated with Count Vectorization = \", auc_neg_TFIDF)"
      ],
      "execution_count": 25,
      "outputs": [
        {
          "output_type": "stream",
          "text": [
            "Accuracy score on output clusters with Count Vectorization =  0.29965484781926577\n",
            "Accuracy score on output clusters negated with Count Vectorization =  0.7003451521807342\n"
          ],
          "name": "stdout"
        }
      ]
    },
    {
      "cell_type": "code",
      "metadata": {
        "id": "y8oTl8_Z3g7k",
        "colab_type": "code",
        "outputId": "0b0849f5-6603-42a4-cfcd-e776fede1bb5",
        "colab": {
          "base_uri": "https://localhost:8080/",
          "height": 34
        }
      },
      "source": [
        "Y_test = Y_test.astype('int')\n",
        "Y_pred_TFIDF_cluster = k_means_TFIDF.predict(X_test_TF)\n",
        "if (auc_neg_vect > auc_vect):\n",
        "  Y_test_neg = [int(not(x)) for x in Y_test.to_list()]\n",
        "  test_vect_auc = metrics.accuracy_score(Y_test_neg, Y_pred_TFIDF_cluster)\n",
        "else:\n",
        "  test_vect_auc = metrics.accuracy_score(Y_test, Y_pred_TFIDF_cluster)\n",
        "print(\"Test accuracy of TFIDF= \",test_vect_auc )"
      ],
      "execution_count": 23,
      "outputs": [
        {
          "output_type": "stream",
          "text": [
            "Test AUC of TFIDF=  0.7232941176470589\n"
          ],
          "name": "stdout"
        }
      ]
    },
    {
      "cell_type": "code",
      "metadata": {
        "id": "Eg5XEnYb4cvO",
        "colab_type": "code",
        "outputId": "6c44cf26-7082-4244-d20d-acd410227f66",
        "colab": {
          "base_uri": "https://localhost:8080/",
          "height": 34
        }
      },
      "source": [
        "Y_pred_vect_cluster = k_means_vect.predict(X_test_CV)\n",
        "if (auc_neg_vect > auc_vect):\n",
        "  Y_test_neg = [int(not(x)) for x in Y_test.to_list()]\n",
        "  test_vect_auc = metrics.accuracy_score(Y_test_neg, Y_pred_vect_cluster)\n",
        "else:\n",
        "  test_vect_auc = metrics.accuracy_score(Y_test, Y_pred_vect_cluster)\n",
        "print(\"Test Accuracy of Count Vectorizer = \",test_vect_auc )"
      ],
      "execution_count": 22,
      "outputs": [
        {
          "output_type": "stream",
          "text": [
            "Test AUC of Count Vectorizer =  0.5049411764705882\n"
          ],
          "name": "stdout"
        }
      ]
    },
    {
      "cell_type": "markdown",
      "metadata": {
        "id": "1UZhyF5uz4-q",
        "colab_type": "text"
      },
      "source": [
        "# Using NLTK"
      ]
    },
    {
      "cell_type": "code",
      "metadata": {
        "id": "Z8LIDtonqMhz",
        "colab_type": "code",
        "colab": {}
      },
      "source": [
        "def vader_analysis(input_col, output_col, dataframe):\n",
        "  dataframe[output_col] = dataframe.apply(lambda _: '-', axis=1)\n",
        "\n",
        "  for num, text in enumerate(dataframe[input_col]):\n",
        "    sentiment_original = analyser.polarity_scores(text)\n",
        "    if sentiment_original['neg'] > sentiment_original['pos']:\n",
        "      dataframe[output_col].iloc[num] = 0\n",
        "      #print(\"num = {}, score = {}\" .format(num,0) )\n",
        "    else:\n",
        "      dataframe[output_col].iloc[num] = 1 \n",
        "      #print(\"num = {}, score = {}\" .format(num,1) )\n",
        "\n",
        "  return df_imbd\n",
        "\n",
        "df_imbd = vader_analysis(\"Text\", \"vader_score\", df_imbd)"
      ],
      "execution_count": 0,
      "outputs": []
    },
    {
      "cell_type": "code",
      "metadata": {
        "id": "sJpTA4MY4MOY",
        "colab_type": "code",
        "colab": {
          "base_uri": "https://localhost:8080/",
          "height": 34
        },
        "outputId": "a4546c04-17f5-4a1d-8809-1ddc2a234595"
      },
      "source": [
        "df_imbd[\"Class\"] = df_imbd[\"Class\"].astype('int')\n",
        "df_imbd[\"vader_score\"] = df_imbd[\"vader_score\"].astype('int')\n",
        "vader_acc = metrics.accuracy_score(df_imbd[\"Class\"],df_imbd[\"vader_score\"])\n",
        "print(\"Accuracy of NLTK sentiment Analyser on actual Class= \",vader_acc )"
      ],
      "execution_count": 21,
      "outputs": [
        {
          "output_type": "stream",
          "text": [
            "Accuracy of NLTK sentiment Analyser on actual Class=  0.6865513589834098\n"
          ],
          "name": "stdout"
        }
      ]
    },
    {
      "cell_type": "code",
      "metadata": {
        "id": "izOYmIPt71Sp",
        "colab_type": "code",
        "colab": {}
      },
      "source": [
        ""
      ],
      "execution_count": 0,
      "outputs": []
    }
  ]
}